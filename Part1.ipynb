{
 "cells": [
  {
   "attachments": {},
   "cell_type": "markdown",
   "metadata": {},
   "source": [
    "**Question 1**\n",
    "* Gabriel Cutshaw\n",
    "* Dante Goldner\n",
    "* Mattan Tseng\n",
    "* Hossen Zaremehrjerdi\n"
   ]
  },
  {
   "cell_type": "code",
   "execution_count": 9,
   "metadata": {},
   "outputs": [],
   "source": [
    "import numpy as np\n",
    "import h5py"
   ]
  },
  {
   "cell_type": "code",
   "execution_count": 10,
   "metadata": {},
   "outputs": [],
   "source": [
    "data_path = \"./Combustion_data_ME592_Assignment/Aditya_data/combustion_img_13.mat\"\n",
    "arrays = {}\n",
    "\n",
    "\n",
    "data = h5py.File(data_path)\n",
    "\n",
    "for k, v in data.items():\n",
    "    arrays[k] = np.array(v)\n",
    "\n",
    "\n",
    "test_set_x = arrays[0]\n",
    "test_set_y = arrays[1]\n",
    "train_set_x = arrays[2]\n",
    "train_set_y = arrays[3]\n",
    "valid_set_x = arrays[4]\n",
    "valid_set_y = arrays[5]"
   ]
  },
  {
   "cell_type": "code",
   "execution_count": 13,
   "metadata": {},
   "outputs": [
    {
     "name": "stdout",
     "output_type": "stream",
     "text": [
      "The type of the data is:  <class 'h5py._hl.files.File'>\n",
      "ItemsViewHDF5(<HDF5 file \"combustion_img_13.mat\" (mode r)>)\n",
      "<class 'dict'>\n",
      "6\n",
      "{'test_set_x': array([[ 0,  0,  0, ..., 31, 32, 31],\n",
      "       [ 0,  0,  0, ..., 36, 36, 37],\n",
      "       [ 0,  0,  0, ..., 38, 39, 41],\n",
      "       ...,\n",
      "       [ 0,  0,  0, ...,  0,  0,  0],\n",
      "       [ 0,  0,  0, ...,  0,  0,  0],\n",
      "       [ 0,  0,  0, ...,  0,  0,  0]], dtype=uint8), 'test_set_y': array([[1],\n",
      "       [1],\n",
      "       [1],\n",
      "       ...,\n",
      "       [0],\n",
      "       [0],\n",
      "       [0]], dtype=uint8), 'train_set_x': array([[ 0,  0,  0, ..., 24, 23, 23],\n",
      "       [ 0,  0,  0, ..., 28, 27, 27],\n",
      "       [ 0,  0,  0, ..., 30, 30, 28],\n",
      "       ...,\n",
      "       [ 0,  0,  0, ...,  0,  0,  0],\n",
      "       [ 0,  0,  0, ...,  0,  0,  0],\n",
      "       [ 0,  0,  0, ...,  0,  0,  0]], dtype=uint8), 'train_set_y': array([[1],\n",
      "       [1],\n",
      "       [1],\n",
      "       ...,\n",
      "       [0],\n",
      "       [0],\n",
      "       [0]], dtype=uint8), 'valid_set_x': array([[ 0,  0,  0, ..., 27, 25, 26],\n",
      "       [ 0,  0,  0, ..., 30, 30, 31],\n",
      "       [ 0,  0,  0, ..., 33, 33, 34],\n",
      "       ...,\n",
      "       [ 0,  0,  0, ...,  0,  0,  0],\n",
      "       [ 0,  0,  0, ...,  0,  0,  0],\n",
      "       [ 0,  0,  0, ...,  0,  0,  0]], dtype=uint8), 'valid_set_y': array([[1],\n",
      "       [1],\n",
      "       [1],\n",
      "       ...,\n",
      "       [0],\n",
      "       [0],\n",
      "       [0]], dtype=uint8)}\n"
     ]
    }
   ],
   "source": [
    "print(type(test_set_x))"
   ]
  }
 ],
 "metadata": {
  "kernelspec": {
   "display_name": "myenv",
   "language": "python",
   "name": "python3"
  },
  "language_info": {
   "codemirror_mode": {
    "name": "ipython",
    "version": 3
   },
   "file_extension": ".py",
   "mimetype": "text/x-python",
   "name": "python",
   "nbconvert_exporter": "python",
   "pygments_lexer": "ipython3",
   "version": "3.10.8"
  },
  "orig_nbformat": 4
 },
 "nbformat": 4,
 "nbformat_minor": 2
}
