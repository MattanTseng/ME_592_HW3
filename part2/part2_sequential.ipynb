{
 "cells": [
  {
   "cell_type": "code",
   "execution_count": 1,
   "metadata": {},
   "outputs": [],
   "source": [
    "import itertools\n",
    "import h5py\n",
    "import numpy as np\n",
    "import pandas\n",
    "from einops import rearrange\n",
    "import torch\n",
    "import torch.nn as nn\n",
    "import torchvision\n",
    "import torchvision.transforms as transformers\n",
    "import matplotlib.pyplot as plt\n",
    "from torch.autograd import Variable\n"
   ]
  },
  {
   "cell_type": "code",
   "execution_count": 2,
   "metadata": {},
   "outputs": [],
   "source": [
    "class Encoder(nn.Module): \n",
    "    def __init__(self, bottleneck_size):\n",
    "        super(Encoder,self).__init__()\n",
    "        self.conv_layers = nn.Sequential(\n",
    "            nn.Conv2d(in_channels=1, out_channels=32, kernel_size=(5,3), stride=2, padding=1),\n",
    "            nn.ReLU(),\n",
    "            nn.Conv2d(in_channels=32,out_channels=64, kernel_size=(5,3), stride=2, padding=1),\n",
    "            nn.ReLU(),\n",
    "            nn.Conv2d(in_channels=64,out_channels=128, kernel_size=3,stride=2, padding=0),\n",
    "            nn.ReLU()\n",
    "        )\n",
    "\n",
    "        self.dense_layers = nn.Sequential(\n",
    "            nn.Dropout(0.2),\n",
    "            nn.Linear(128 * 30* 12 , 512),\n",
    "            nn.ReLU(),\n",
    "            nn.Dropout(0.2),\n",
    "            nn.Linear(512,bottleneck_size),\n",
    "           )\n",
    "        self.flatten = nn.Flatten()\n",
    "\n",
    "    def forward(self, x):\n",
    "        x = self.conv_layers(x)\n",
    "        x = self.flatten(x)\n",
    "        x = self.dense_layers(x)\n",
    "        return x\n"
   ]
  },
  {
   "cell_type": "code",
   "execution_count": 3,
   "metadata": {},
   "outputs": [],
   "source": [
    "class Decoder(nn.Module):\n",
    "    def __init__(self, bottleneck_size ):\n",
    "        super(Decoder,self).__init__()\n",
    "        self.conv_layers = nn.Sequential(\n",
    "            nn.ConvTranspose2d(in_channels=128, out_channels=64, kernel_size=3, stride=2, output_padding=1),\n",
    "            nn.ReLU(),\n",
    "            nn.ConvTranspose2d(in_channels=64,out_channels=32, kernel_size=(5,3), stride=2, padding=1, output_padding=(1,0)),\n",
    "            nn.ReLU(),\n",
    "            nn.ConvTranspose2d(in_channels=32,out_channels=1, kernel_size=(5,3),stride=2, padding=1, output_padding=1),\n",
    "            nn.ReLU()\n",
    "        )\n",
    "\n",
    "        self.unflatten = nn.Unflatten(dim=1, unflattened_size=(128,30,12))\n",
    "\n",
    "        self.dense_layers = nn.Sequential(\n",
    "\n",
    "            nn.Linear(bottleneck_size,1024),\n",
    "            nn.ReLU(),\n",
    "            nn.Dropout(0.2),\n",
    "            nn.Linear(1024, 128 * 30 * 12),\n",
    "            nn.ReLU(),\n",
    "            nn.Dropout(0.2),\n",
    "           )\n",
    "\n",
    "    def forward(self, x):\n",
    "        x = self.dense_layers(x)\n",
    "        x  = self.unflatten(x)\n",
    "        x = self.conv_layers(x)\n",
    "        x = x[:, :, 4:254, 2:102]\n",
    "\n",
    "        return x\n"
   ]
  },
  {
   "cell_type": "code",
   "execution_count": 4,
   "metadata": {},
   "outputs": [],
   "source": [
    "class AE(nn.Module):\n",
    "\n",
    "    def __init__(self, encoder, decoder, bottleneck_size=1024):\n",
    "        super(AE,self).__init__()\n",
    "        self.encoder = encoder(bottleneck_size)\n",
    "        self.decoder = decoder(bottleneck_size)\n",
    "    def forward(self,x ):\n",
    "        x = self.encoder(x)\n",
    "        x = self.decoder(x)\n",
    "        return x\n"
   ]
  },
  {
   "cell_type": "code",
   "execution_count": 5,
   "metadata": {},
   "outputs": [],
   "source": [
    "ae_pretrain = AE(Encoder, Decoder)"
   ]
  },
  {
   "cell_type": "code",
   "execution_count": 6,
   "metadata": {},
   "outputs": [
    {
     "data": {
      "text/plain": [
       "<All keys matched successfully>"
      ]
     },
     "execution_count": 6,
     "metadata": {},
     "output_type": "execute_result"
    }
   ],
   "source": [
    "ae_pretrain.load_state_dict(torch.load('./logging/model.pth'))"
   ]
  },
  {
   "cell_type": "code",
   "execution_count": 7,
   "metadata": {},
   "outputs": [],
   "source": [
    "#ae_pretrain.eval()"
   ]
  },
  {
   "cell_type": "code",
   "execution_count": 8,
   "metadata": {},
   "outputs": [],
   "source": [
    "from utils.data_loading import CombustionSystemDataset\n",
    "\n",
    "PATH = 'combustion_img_13.mat'\n",
    "\n",
    "train_data = CombustionSystemDataset(PATH,'train_set_x','train_set_y')\n",
    "test_data = CombustionSystemDataset(PATH,'test_set_x','test_set_y')"
   ]
  },
  {
   "cell_type": "code",
   "execution_count": 9,
   "metadata": {},
   "outputs": [],
   "source": [
    "train_loader = torch.utils.data.DataLoader(dataset=train_data, batch_size=6, shuffle=False)\n",
    "test_loader = torch.utils.data.DataLoader(dataset=test_data, batch_size=6, shuffle=False)"
   ]
  },
  {
   "cell_type": "code",
   "execution_count": 10,
   "metadata": {},
   "outputs": [
    {
     "data": {
      "text/plain": [
       "device(type='cuda')"
      ]
     },
     "execution_count": 10,
     "metadata": {},
     "output_type": "execute_result"
    }
   ],
   "source": [
    "device = torch.device('cuda' if torch.cuda.is_available() else 'cpu')\n",
    "device"
   ]
  },
  {
   "cell_type": "code",
   "execution_count": 11,
   "metadata": {},
   "outputs": [
    {
     "data": {
      "text/plain": [
       "AE(\n",
       "  (encoder): Encoder(\n",
       "    (conv_layers): Sequential(\n",
       "      (0): Conv2d(1, 32, kernel_size=(5, 3), stride=(2, 2), padding=(1, 1))\n",
       "      (1): ReLU()\n",
       "      (2): Conv2d(32, 64, kernel_size=(5, 3), stride=(2, 2), padding=(1, 1))\n",
       "      (3): ReLU()\n",
       "      (4): Conv2d(64, 128, kernel_size=(3, 3), stride=(2, 2))\n",
       "      (5): ReLU()\n",
       "    )\n",
       "    (dense_layers): Sequential(\n",
       "      (0): Dropout(p=0.2, inplace=False)\n",
       "      (1): Linear(in_features=46080, out_features=512, bias=True)\n",
       "      (2): ReLU()\n",
       "      (3): Dropout(p=0.2, inplace=False)\n",
       "      (4): Linear(in_features=512, out_features=1024, bias=True)\n",
       "    )\n",
       "    (flatten): Flatten(start_dim=1, end_dim=-1)\n",
       "  )\n",
       "  (decoder): Decoder(\n",
       "    (conv_layers): Sequential(\n",
       "      (0): ConvTranspose2d(128, 64, kernel_size=(3, 3), stride=(2, 2), output_padding=(1, 1))\n",
       "      (1): ReLU()\n",
       "      (2): ConvTranspose2d(64, 32, kernel_size=(5, 3), stride=(2, 2), padding=(1, 1), output_padding=(1, 0))\n",
       "      (3): ReLU()\n",
       "      (4): ConvTranspose2d(32, 1, kernel_size=(5, 3), stride=(2, 2), padding=(1, 1), output_padding=(1, 1))\n",
       "      (5): ReLU()\n",
       "    )\n",
       "    (unflatten): Unflatten(dim=1, unflattened_size=(128, 30, 12))\n",
       "    (dense_layers): Sequential(\n",
       "      (0): Linear(in_features=1024, out_features=1024, bias=True)\n",
       "      (1): ReLU()\n",
       "      (2): Dropout(p=0.2, inplace=False)\n",
       "      (3): Linear(in_features=1024, out_features=46080, bias=True)\n",
       "      (4): ReLU()\n",
       "      (5): Dropout(p=0.2, inplace=False)\n",
       "    )\n",
       "  )\n",
       ")"
      ]
     },
     "execution_count": 11,
     "metadata": {},
     "output_type": "execute_result"
    }
   ],
   "source": [
    "ae_pretrain.to(device)"
   ]
  },
  {
   "cell_type": "code",
   "execution_count": 12,
   "metadata": {},
   "outputs": [
    {
     "name": "stdout",
     "output_type": "stream",
     "text": [
      "Batch:  500\n",
      "Batch:  1000\n",
      "Batch:  1500\n",
      "Batch:  2000\n",
      "Batch:  2500\n",
      "Batch:  3000\n",
      "Batch:  3500\n",
      "Batch:  4000\n",
      "Batch:  4500\n",
      "Batch:  5000\n",
      "Batch:  5500\n",
      "Batch:  6000\n",
      "Batch:  6500\n",
      "Batch:  7000\n",
      "Batch:  7500\n",
      "Batch:  8000\n",
      "Batch:  8500\n",
      "Batch:  9000\n"
     ]
    }
   ],
   "source": [
    "#train_codes_stashed = torch.empty(1,1024).to(device)\n",
    "#train_targets_stashed = torch.empty(1,1).to(device)\n",
    "batch_ct=0   #Diagnositic\n",
    "for train_images, train_targets in train_loader:\n",
    "    batch_ct=batch_ct+1\n",
    "    train_images, train_targets = train_images.to(device), train_targets.to(device)\n",
    "    train_codes = ae_pretrain.encoder(train_images)\n",
    "    \n",
    "    #train_images=train_images.to('cpu')\n",
    "    #train_codes=train_codes.to('cpu')\n",
    "    #train_targets=train_targets.to('cpu')\n",
    "    \n",
    "    #train_codes_stashed = torch.cat((train_codes_stashed, train_codes),dim=0)\n",
    "    #train_targets_stashed = torch.cat((train_targets_stashed, train_targets),dim=0)\n",
    "    \n",
    "    #Diagnositic\n",
    "  \n",
    "    df_code = pandas.DataFrame(train_codes.to('cpu').detach().numpy())\n",
    "    df_class=pandas.DataFrame(train_targets.to('cpu').detach().numpy())\n",
    "    df_code.to_csv('train_embbeds.csv', mode='a', index=False, header=False)\n",
    "    df_class.to_csv('train_labels.csv', mode='a', index=False, header=False)\n",
    "\n",
    "    if batch_ct % 500 == 0:\n",
    "        print(\"Batch: \",batch_ct)"
   ]
  },
  {
   "cell_type": "code",
   "execution_count": 16,
   "metadata": {},
   "outputs": [
    {
     "name": "stdout",
     "output_type": "stream",
     "text": [
      "Batch:  500\n",
      "Batch:  1000\n",
      "Batch:  1500\n",
      "Batch:  2000\n",
      "Batch:  2500\n",
      "Batch:  3000\n"
     ]
    }
   ],
   "source": [
    "batch_ct=0   #Diagnositic\n",
    "for test_images, test_targets in test_loader:\n",
    "    \n",
    "    test_images, test_targets = test_images.to(device), test_targets.to(device)\n",
    "    test_codes = ae_pretrain.encoder(test_images)\n",
    "  \n",
    "    df_code = pandas.DataFrame(test_codes.to('cpu').detach().numpy())\n",
    "    df_class=pandas.DataFrame(test_targets.to('cpu').detach().numpy())\n",
    "    df_code.to_csv('test_embbeds.csv', mode='a', index=False, header=False)\n",
    "    df_class.to_csv('test_labels.csv', mode='a', index=False, header=False)\n",
    "\n",
    "    batch_ct=batch_ct+1\n",
    "    if batch_ct % 500 == 0:\n",
    "        print(\"Batch: \",batch_ct)"
   ]
  },
  {
   "cell_type": "code",
   "execution_count": 18,
   "metadata": {},
   "outputs": [],
   "source": [
    "valid_data = CombustionSystemDataset(PATH,'valid_set_x','valid_set_y')\n",
    "valid_loader = torch.utils.data.DataLoader(dataset=valid_data, batch_size=6, shuffle=False)"
   ]
  },
  {
   "cell_type": "code",
   "execution_count": 19,
   "metadata": {},
   "outputs": [
    {
     "name": "stdout",
     "output_type": "stream",
     "text": [
      "Batch:  500\n",
      "Batch:  1000\n",
      "Batch:  1500\n"
     ]
    }
   ],
   "source": [
    "batch_ct=0   #Diagnositic\n",
    "for valid_images, valid_targets in valid_loader:\n",
    "    \n",
    "    valid_images, valid_targets = valid_images.to(device), valid_targets.to(device)\n",
    "    valid_codes = ae_pretrain.encoder(valid_images)\n",
    "  \n",
    "    df_code = pandas.DataFrame(valid_codes.to('cpu').detach().numpy())\n",
    "    df_class = pandas.DataFrame(valid_targets.to('cpu').detach().numpy())\n",
    "    df_code.to_csv('valid_embbeds.csv', mode='a', index=False, header=False)\n",
    "    df_class.to_csv('valid_labels.csv', mode='a', index=False, header=False)\n",
    "\n",
    "    batch_ct=batch_ct+1\n",
    "    if batch_ct % 500 == 0:\n",
    "        print(\"Batch: \",batch_ct)"
   ]
  },
  {
   "cell_type": "code",
   "execution_count": 20,
   "metadata": {},
   "outputs": [
    {
     "name": "stdout",
     "output_type": "stream",
     "text": [
      "The type of test_codes:  <class 'torch.Tensor'>\n",
      "The shape of test_codes:  torch.Size([6, 1024])\n",
      "The shape of train_codes:  torch.Size([6, 1024])\n"
     ]
    }
   ],
   "source": [
    "print(\"The type of test_codes: \", type(test_codes))\n",
    "print(\"The shape of test_codes: \", test_codes.size())\n",
    "print(\"The shape of train_codes: \",train_codes.size())"
   ]
  },
  {
   "cell_type": "code",
   "execution_count": null,
   "metadata": {},
   "outputs": [],
   "source": [
    "def sliding_windows(dataX,dataY, seq_length):\n",
    "    print(\"shape of data: \", dataX.size())\n",
    "    print(\"shape of data labels: \", dataY.size())\n",
    "    print(\"seq_length: \", seq_length)\n",
    "    \n",
    "    batch_len=len(dataX)\n",
    "    \n",
    "    x = torch.empty((1,4,1024))\n",
    "    # y = torch.empty((1,1))\n",
    "    y = torch.empty(1,1)\n",
    "    \n",
    "    for i in range(batch_len-seq_length-1):\n",
    "        # _x = data.detach()[i:(i+seq_length)]\n",
    "        # _y = data.detach()[i+seq_length]\n",
    "        _x = dataX[i:(i+seq_length)]\n",
    "        _y = dataY[i+seq_length]\n",
    "        \n",
    "        _xOut=rearrange(_x,'w h -> 1 w h')\n",
    "        _yOut=rearrange(_y,'w -> 1 w')\n",
    "\n",
    "\n",
    "        x = torch.cat((x, _xOut),dim=0)\n",
    "        y = torch.cat((y, _yOut),dim=0)\n",
    "\n",
    "    # return torch.tensor(x),torch.tensor(y)\n",
    "    print(\"Size of x: \", x.size())\n",
    "    print(\"Size of _x: \", _x.size())\n",
    "    print(\"Size of y: \", y.size())\n",
    "    print(\"Size of _y: \", _y.size())\n",
    "    return x.clone().detach(), y.clone().detach()"
   ]
  },
  {
   "cell_type": "code",
   "execution_count": null,
   "metadata": {},
   "outputs": [],
   "source": [
    "seq_length = 4\n",
    "x_train, y_train = sliding_windows(train_codes_cpu, train_targets_cpu, seq_length)\n",
    "\n",
    "print(\"The shape of x_train: \", x_train.size())\n",
    "print(\"The length of x_train: \", len(x_train))\n",
    "print(\"The shape of y_train: \", y_train.size())\n",
    "print(\"The length of y_train: \", len(y_train))"
   ]
  },
  {
   "cell_type": "code",
   "execution_count": null,
   "metadata": {},
   "outputs": [],
   "source": [
    "class LSTM(nn.Module):\n",
    "\n",
    "    def __init__(self, num_classes, input_size, hidden_size, num_layers, device):\n",
    "        super(LSTM, self).__init__()\n",
    "        \n",
    "        self.num_classes = num_classes\n",
    "        self.num_layers = num_layers\n",
    "        self.input_size = input_size\n",
    "        self.hidden_size = hidden_size\n",
    "        self.seq_length = seq_length\n",
    "        \n",
    "        self.lstm = nn.LSTM(input_size=input_size, hidden_size=hidden_size,\n",
    "                            num_layers=num_layers, batch_first=True)\n",
    "        \n",
    "        self.fc = nn.Linear(hidden_size, num_classes)\n",
    "\n",
    "    def forward(self, x):\n",
    "        h_0 = Variable(torch.zeros(\n",
    "            self.num_layers, x.size(0), self.hidden_size)).to(device)\n",
    "        \n",
    "        c_0 = Variable(torch.zeros(\n",
    "            self.num_layers, x.size(0), self.hidden_size)).to(device)\n",
    "        \n",
    "        # Propagate input through LSTM\n",
    "        ula, (h_out, _) = self.lstm(x, (h_0, c_0))\n",
    "        \n",
    "        h_out = h_out.view(-1, self.hidden_size)\n",
    "        \n",
    "        out = self.fc(h_out)\n",
    "        \n",
    "        return out"
   ]
  },
  {
   "cell_type": "code",
   "execution_count": null,
   "metadata": {},
   "outputs": [],
   "source": [
    "use_cuda = torch.cuda.is_available()\n",
    "print(use_cuda)"
   ]
  },
  {
   "cell_type": "code",
   "execution_count": null,
   "metadata": {},
   "outputs": [],
   "source": [
    "trainX = Variable(x_train)\n",
    "trainY = Variable(y_train)\n",
    "    \n",
    "print(\"Shape of trainX: \", trainX.size())\n",
    "print(\"Shape of trainY: \", trainY.size())"
   ]
  },
  {
   "cell_type": "code",
   "execution_count": null,
   "metadata": {},
   "outputs": [],
   "source": [
    "num_epochs = 1000\n",
    "learning_rate = 0.001\n",
    "\n",
    "input_size = 1024\n",
    "hidden_size = 512\n",
    "num_layers = 1\n",
    "\n",
    "num_classes = 1\n",
    "\n",
    "# locate our GPU device and initialize it for training\n",
    "use_cuda = torch.cuda.is_available()\n",
    "device = torch.device('cuda' if use_cuda else 'cpu')\n",
    "\n",
    "lstm = LSTM(num_classes, input_size, hidden_size, num_layers, device)\n",
    "lstm.to(device)\n",
    "print(\"Number of parameters: \", sum(p.numel() for p in lstm.parameters()))\n",
    "\n",
    "criterion = torch.nn.MSELoss()    # mean-squared error for regression\n",
    "optimizer = torch.optim.Adam(lstm.parameters(), lr=learning_rate)\n",
    "#optimizer = torch.optim.SGD(lstm.parameters(), lr=learning_rate)\n",
    "\n",
    "# Train the model\n",
    "for epoch in range(num_epochs):\n",
    "    outputs = lstm(trainX.to(device))\n",
    "\n",
    "    optimizer.zero_grad()\n",
    "    \n",
    "    # obtain the loss function\n",
    "    loss = criterion(outputs, trainY.to(device))\n",
    "\n",
    "\n",
    "    loss.backward()\n",
    "    \n",
    "    optimizer.step()\n",
    "    if epoch % 100 == 0:\n",
    "      print(\"Epoch: %d, loss: %1.5f\" % (epoch, loss.item()))"
   ]
  },
  {
   "cell_type": "code",
   "execution_count": null,
   "metadata": {},
   "outputs": [],
   "source": []
  }
 ],
 "metadata": {
  "kernelspec": {
   "display_name": "me592",
   "language": "python",
   "name": "me592"
  },
  "language_info": {
   "codemirror_mode": {
    "name": "ipython",
    "version": 3
   },
   "file_extension": ".py",
   "mimetype": "text/x-python",
   "name": "python",
   "nbconvert_exporter": "python",
   "pygments_lexer": "ipython3",
   "version": "3.9.7"
  }
 },
 "nbformat": 4,
 "nbformat_minor": 4
}
