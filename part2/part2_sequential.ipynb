{
 "cells": [
  {
   "cell_type": "code",
   "execution_count": 1,
   "metadata": {},
   "outputs": [],
   "source": [
    "import itertools\n",
    "import numpy as np\n",
    "import torch\n",
    "import torch.nn as nn\n",
    "import torchvision\n",
    "import torchvision.transforms as transformers\n",
    "import matplotlib.pyplot as plt"
   ]
  },
  {
   "cell_type": "code",
   "execution_count": 2,
   "metadata": {},
   "outputs": [],
   "source": [
    "class Encoder(nn.Module): \n",
    "    def __init__(self, bottleneck_size):\n",
    "        super(Encoder,self).__init__()\n",
    "        self.conv_layers = nn.Sequential(\n",
    "            nn.Conv2d(in_channels=1, out_channels=32, kernel_size=(5,3), stride=2, padding=1),\n",
    "            nn.ReLU(),\n",
    "            nn.Conv2d(in_channels=32,out_channels=64, kernel_size=(5,3), stride=2, padding=1),\n",
    "            nn.ReLU(),\n",
    "            nn.Conv2d(in_channels=64,out_channels=128, kernel_size=3,stride=2, padding=0),\n",
    "            nn.ReLU()\n",
    "        )\n",
    "\n",
    "        self.dense_layers = nn.Sequential(\n",
    "            nn.Dropout(0.2),\n",
    "            nn.Linear(128 * 30* 12 , 512),\n",
    "            nn.ReLU(),\n",
    "            nn.Dropout(0.2),\n",
    "            nn.Linear(512,bottleneck_size),\n",
    "           )\n",
    "        self.flatten = nn.Flatten()\n",
    "\n",
    "    def forward(self, x):\n",
    "        x = self.conv_layers(x)\n",
    "        x = self.flatten(x)\n",
    "        x = self.dense_layers(x)\n",
    "        return x\n"
   ]
  },
  {
   "cell_type": "code",
   "execution_count": 3,
   "metadata": {},
   "outputs": [],
   "source": [
    "class Decoder(nn.Module):\n",
    "    def __init__(self, bottleneck_size ):\n",
    "        super(Decoder,self).__init__()\n",
    "        self.conv_layers = nn.Sequential(\n",
    "            nn.ConvTranspose2d(in_channels=128, out_channels=64, kernel_size=3, stride=2, output_padding=1),\n",
    "            nn.ReLU(),\n",
    "            nn.ConvTranspose2d(in_channels=64,out_channels=32, kernel_size=(5,3), stride=2, padding=1, output_padding=(1,0)),\n",
    "            nn.ReLU(),\n",
    "            nn.ConvTranspose2d(in_channels=32,out_channels=1, kernel_size=(5,3),stride=2, padding=1, output_padding=1),\n",
    "            nn.ReLU()\n",
    "        )\n",
    "\n",
    "        self.unflatten = nn.Unflatten(dim=1, unflattened_size=(128,30,12))\n",
    "\n",
    "        self.dense_layers = nn.Sequential(\n",
    "\n",
    "            nn.Linear(bottleneck_size,1024),\n",
    "            nn.ReLU(),\n",
    "            nn.Dropout(0.2),\n",
    "            nn.Linear(1024, 128 * 30 * 12),\n",
    "            nn.ReLU(),\n",
    "            nn.Dropout(0.2),\n",
    "           )\n",
    "\n",
    "    def forward(self, x):\n",
    "        x = self.dense_layers(x)\n",
    "        x  = self.unflatten(x)\n",
    "        x = self.conv_layers(x)\n",
    "        x = x[:, :, 4:254, 2:102]\n",
    "\n",
    "        return x\n"
   ]
  },
  {
   "cell_type": "code",
   "execution_count": 4,
   "metadata": {},
   "outputs": [],
   "source": [
    "class AE(nn.Module):\n",
    "\n",
    "    def __init__(self, encoder, decoder, bottleneck_size=1024):\n",
    "        super(AE,self).__init__()\n",
    "        self.encoder = encoder(bottleneck_size)\n",
    "        self.decoder = decoder(bottleneck_size)\n",
    "    def forward(self,x ):\n",
    "        x = self.encoder(x)\n",
    "        x = self.decoder(x)\n",
    "        return x\n"
   ]
  },
  {
   "cell_type": "code",
   "execution_count": 5,
   "metadata": {},
   "outputs": [],
   "source": [
    "ae_pretrain = AE(Encoder, Decoder)"
   ]
  },
  {
   "cell_type": "code",
   "execution_count": 6,
   "metadata": {},
   "outputs": [
    {
     "data": {
      "text/plain": [
       "<All keys matched successfully>"
      ]
     },
     "execution_count": 6,
     "metadata": {},
     "output_type": "execute_result"
    }
   ],
   "source": [
    "ae_pretrain.load_state_dict(torch.load('./logging/model.pth'))"
   ]
  },
  {
   "cell_type": "code",
   "execution_count": 7,
   "metadata": {},
   "outputs": [
    {
     "data": {
      "text/plain": [
       "AE(\n",
       "  (encoder): Encoder(\n",
       "    (conv_layers): Sequential(\n",
       "      (0): Conv2d(1, 32, kernel_size=(5, 3), stride=(2, 2), padding=(1, 1))\n",
       "      (1): ReLU()\n",
       "      (2): Conv2d(32, 64, kernel_size=(5, 3), stride=(2, 2), padding=(1, 1))\n",
       "      (3): ReLU()\n",
       "      (4): Conv2d(64, 128, kernel_size=(3, 3), stride=(2, 2))\n",
       "      (5): ReLU()\n",
       "    )\n",
       "    (dense_layers): Sequential(\n",
       "      (0): Dropout(p=0.2, inplace=False)\n",
       "      (1): Linear(in_features=46080, out_features=512, bias=True)\n",
       "      (2): ReLU()\n",
       "      (3): Dropout(p=0.2, inplace=False)\n",
       "      (4): Linear(in_features=512, out_features=1024, bias=True)\n",
       "    )\n",
       "    (flatten): Flatten(start_dim=1, end_dim=-1)\n",
       "  )\n",
       "  (decoder): Decoder(\n",
       "    (conv_layers): Sequential(\n",
       "      (0): ConvTranspose2d(128, 64, kernel_size=(3, 3), stride=(2, 2), output_padding=(1, 1))\n",
       "      (1): ReLU()\n",
       "      (2): ConvTranspose2d(64, 32, kernel_size=(5, 3), stride=(2, 2), padding=(1, 1), output_padding=(1, 0))\n",
       "      (3): ReLU()\n",
       "      (4): ConvTranspose2d(32, 1, kernel_size=(5, 3), stride=(2, 2), padding=(1, 1), output_padding=(1, 1))\n",
       "      (5): ReLU()\n",
       "    )\n",
       "    (unflatten): Unflatten(dim=1, unflattened_size=(128, 30, 12))\n",
       "    (dense_layers): Sequential(\n",
       "      (0): Linear(in_features=1024, out_features=1024, bias=True)\n",
       "      (1): ReLU()\n",
       "      (2): Dropout(p=0.2, inplace=False)\n",
       "      (3): Linear(in_features=1024, out_features=46080, bias=True)\n",
       "      (4): ReLU()\n",
       "      (5): Dropout(p=0.2, inplace=False)\n",
       "    )\n",
       "  )\n",
       ")"
      ]
     },
     "execution_count": 7,
     "metadata": {},
     "output_type": "execute_result"
    }
   ],
   "source": [
    "ae_pretrain.eval()"
   ]
  },
  {
   "cell_type": "code",
   "execution_count": 10,
   "metadata": {},
   "outputs": [],
   "source": [
    "from utils.data_loading import CombustionSystemDataset\n",
    "\n",
    "PATH = 'combustion_img_13.mat'\n",
    "\n",
    "test_data = CombustionSystemDataset(PATH,'test_set_x','test_set_y')\n",
    "train_data = CombustionSystemDataset(PATH,'train_set_x','train_set_y')"
   ]
  },
  {
   "cell_type": "code",
   "execution_count": 11,
   "metadata": {},
   "outputs": [],
   "source": [
    "train_loader = torch.utils.data.DataLoader(dataset=train_data, batch_size=128, shuffle=False)\n",
    "test_loader = torch.utils.data.DataLoader(dataset=test_data, batch_size=128, shuffle=False)"
   ]
  },
  {
   "cell_type": "code",
   "execution_count": 12,
   "metadata": {},
   "outputs": [
    {
     "data": {
      "text/plain": [
       "device(type='cuda')"
      ]
     },
     "execution_count": 12,
     "metadata": {},
     "output_type": "execute_result"
    }
   ],
   "source": [
    "device = torch.device('cuda' if torch.cuda.is_available() else 'cpu')\n",
    "device"
   ]
  },
  {
   "cell_type": "code",
   "execution_count": 13,
   "metadata": {},
   "outputs": [
    {
     "data": {
      "text/plain": [
       "AE(\n",
       "  (encoder): Encoder(\n",
       "    (conv_layers): Sequential(\n",
       "      (0): Conv2d(1, 32, kernel_size=(5, 3), stride=(2, 2), padding=(1, 1))\n",
       "      (1): ReLU()\n",
       "      (2): Conv2d(32, 64, kernel_size=(5, 3), stride=(2, 2), padding=(1, 1))\n",
       "      (3): ReLU()\n",
       "      (4): Conv2d(64, 128, kernel_size=(3, 3), stride=(2, 2))\n",
       "      (5): ReLU()\n",
       "    )\n",
       "    (dense_layers): Sequential(\n",
       "      (0): Dropout(p=0.2, inplace=False)\n",
       "      (1): Linear(in_features=46080, out_features=512, bias=True)\n",
       "      (2): ReLU()\n",
       "      (3): Dropout(p=0.2, inplace=False)\n",
       "      (4): Linear(in_features=512, out_features=1024, bias=True)\n",
       "    )\n",
       "    (flatten): Flatten(start_dim=1, end_dim=-1)\n",
       "  )\n",
       "  (decoder): Decoder(\n",
       "    (conv_layers): Sequential(\n",
       "      (0): ConvTranspose2d(128, 64, kernel_size=(3, 3), stride=(2, 2), output_padding=(1, 1))\n",
       "      (1): ReLU()\n",
       "      (2): ConvTranspose2d(64, 32, kernel_size=(5, 3), stride=(2, 2), padding=(1, 1), output_padding=(1, 0))\n",
       "      (3): ReLU()\n",
       "      (4): ConvTranspose2d(32, 1, kernel_size=(5, 3), stride=(2, 2), padding=(1, 1), output_padding=(1, 1))\n",
       "      (5): ReLU()\n",
       "    )\n",
       "    (unflatten): Unflatten(dim=1, unflattened_size=(128, 30, 12))\n",
       "    (dense_layers): Sequential(\n",
       "      (0): Linear(in_features=1024, out_features=1024, bias=True)\n",
       "      (1): ReLU()\n",
       "      (2): Dropout(p=0.2, inplace=False)\n",
       "      (3): Linear(in_features=1024, out_features=46080, bias=True)\n",
       "      (4): ReLU()\n",
       "      (5): Dropout(p=0.2, inplace=False)\n",
       "    )\n",
       "  )\n",
       ")"
      ]
     },
     "execution_count": 13,
     "metadata": {},
     "output_type": "execute_result"
    }
   ],
   "source": [
    "ae_pretrain.to(device)"
   ]
  },
  {
   "cell_type": "code",
   "execution_count": 14,
   "metadata": {},
   "outputs": [],
   "source": [
    "for train_images, train_targets in train_loader:\n",
    "    train_images, train_targets = train_images.to(device), train_targets.to(device)\n",
    "    train_codes = ae_pretrain.encoder(train_images)"
   ]
  },
  {
   "cell_type": "code",
   "execution_count": 15,
   "metadata": {},
   "outputs": [],
   "source": [
    "# Encode the data set\n",
    "for test_images, test_targets in test_loader:\n",
    "    test_images, test_targets = test_images.to(device), test_targets.to(device)\n",
    "    test_codes = ae_pretrain.encoder(test_images)"
   ]
  },
  {
   "cell_type": "code",
   "execution_count": 18,
   "metadata": {},
   "outputs": [
    {
     "name": "stdout",
     "output_type": "stream",
     "text": [
      "The type of test_codes:  <class 'torch.Tensor'>\n",
      "The shape of test_codes:  torch.Size([80, 1024])\n",
      "tensor([[ 8.3057, -4.3067, -3.1787,  ...,  0.6365, -3.8197, -0.5044],\n",
      "        [ 8.5171, -2.8883, -5.1477,  ...,  0.0204, -5.6053, -0.4960],\n",
      "        [ 8.4950, -1.1487, -6.6302,  ...,  0.1722, -6.3929, -0.8301],\n",
      "        ...,\n",
      "        [ 1.7611, -0.4993,  0.8951,  ...,  5.5987,  3.8893,  3.3396],\n",
      "        [ 4.0443, -0.7045, -0.0785,  ...,  5.9880,  3.8353,  3.8628],\n",
      "        [ 4.5795, -1.5750,  0.2997,  ...,  4.9544,  4.0809,  3.8103]],\n",
      "       device='cuda:0', grad_fn=<AddmmBackward0>)\n"
     ]
    }
   ],
   "source": [
    "print(\"The type of test_codes: \", type(test_codes))\n",
    "print(\"The shape of test_codes: \", test_codes.size())\n",
    "print(test_codes)"
   ]
  },
  {
   "cell_type": "code",
   "execution_count": 19,
   "metadata": {},
   "outputs": [],
   "source": [
    "train_codes_cpu=train_codes.to('cpu')"
   ]
  },
  {
   "cell_type": "code",
   "execution_count": 20,
   "metadata": {},
   "outputs": [],
   "source": [
    "train_targets_cpu=train_targets.to('cpu')"
   ]
  },
  {
   "cell_type": "code",
   "execution_count": 21,
   "metadata": {},
   "outputs": [
    {
     "data": {
      "text/plain": [
       "tensor([[-0.1438, -7.4518,  3.2077,  ...,  7.9158,  0.4963,  0.1278],\n",
       "        [ 2.5845, -7.0720,  1.5720,  ...,  7.1211,  0.8078, -0.4916],\n",
       "        [ 4.8499, -7.3134,  0.9801,  ...,  5.1529,  1.4799, -2.2108],\n",
       "        ...,\n",
       "        [ 5.8279, -0.2781, -0.5588,  ..., -0.3481, -3.6336, -1.8335],\n",
       "        [ 4.6863, -0.7095,  0.1403,  ..., -0.0320, -2.6692, -0.8317],\n",
       "        [ 3.6458, -1.3339,  0.6453,  ...,  1.3926, -1.4769, -0.0316]])"
      ]
     },
     "execution_count": 21,
     "metadata": {},
     "output_type": "execute_result"
    }
   ],
   "source": [
    "train_codes_cpu.detach()"
   ]
  },
  {
   "cell_type": "code",
   "execution_count": 22,
   "metadata": {},
   "outputs": [
    {
     "data": {
      "text/plain": [
       "torch.Size([112, 1024])"
      ]
     },
     "execution_count": 22,
     "metadata": {},
     "output_type": "execute_result"
    }
   ],
   "source": [
    "train_codes_cpu.detach().size()"
   ]
  },
  {
   "cell_type": "code",
   "execution_count": 23,
   "metadata": {},
   "outputs": [],
   "source": [
    "imagecode = train_codes_cpu.detach().numpy()[20]"
   ]
  },
  {
   "cell_type": "code",
   "execution_count": 24,
   "metadata": {},
   "outputs": [
    {
     "name": "stdout",
     "output_type": "stream",
     "text": [
      "1024\n"
     ]
    }
   ],
   "source": [
    "print(len(imagecode))"
   ]
  },
  {
   "cell_type": "code",
   "execution_count": 25,
   "metadata": {},
   "outputs": [
    {
     "data": {
      "text/plain": [
       "112"
      ]
     },
     "execution_count": 25,
     "metadata": {},
     "output_type": "execute_result"
    }
   ],
   "source": [
    "len(train_codes_cpu)"
   ]
  },
  {
   "cell_type": "code",
   "execution_count": 26,
   "metadata": {},
   "outputs": [
    {
     "data": {
      "text/plain": [
       "tensor([ 2.5845, -7.0720,  1.5720,  ...,  7.1211,  0.8078, -0.4916])"
      ]
     },
     "execution_count": 26,
     "metadata": {},
     "output_type": "execute_result"
    }
   ],
   "source": [
    "train_codes_cpu.detach()[1]"
   ]
  },
  {
   "cell_type": "code",
   "execution_count": 27,
   "metadata": {},
   "outputs": [
    {
     "data": {
      "text/plain": [
       "tensor([0.])"
      ]
     },
     "execution_count": 27,
     "metadata": {},
     "output_type": "execute_result"
    }
   ],
   "source": [
    "train_targets_cpu.detach()[30]"
   ]
  },
  {
   "cell_type": "code",
   "execution_count": 39,
   "metadata": {},
   "outputs": [],
   "source": [
    "def sliding_windows(data, seq_length):\n",
    "    print(\"shape of data: \", data.size())\n",
    "    print(\"seq_length: \", seq_length)\n",
    "    \n",
    "    batch_len=len(data)\n",
    "    \n",
    "    x = torch.empty((1,1024))\n",
    "    # y = torch.empty((1,1))\n",
    "    y = torch.empty(1024)\n",
    "    \n",
    "    for i in range(batch_len-seq_length-1):\n",
    "        # _x = data.detach()[i:(i+seq_length)]\n",
    "        # _y = data.detach()[i+seq_length]\n",
    "        _x = data[i:(i+seq_length)]\n",
    "        _y = data[i+seq_length]\n",
    "        print(\"Size of x: \", x.size())\n",
    "        print(\"Size of _x: \", _x.size())\n",
    "        print(\"Size of y: \", y.size())\n",
    "        print(\"Size of _y: \", _y.size())\n",
    "\n",
    "        torch.cat((x, _x),dim=0)\n",
    "        torch.cat((y, _y),dim=0)\n",
    "\n",
    "    # return torch.tensor(x),torch.tensor(y)\n",
    "    return x.clone().detach(), y.clone().detach()"
   ]
  },
  {
   "cell_type": "code",
   "execution_count": 40,
   "metadata": {},
   "outputs": [
    {
     "name": "stdout",
     "output_type": "stream",
     "text": [
      "shape of data:  torch.Size([112, 1024])\n",
      "seq_length:  4\n",
      "Size of x:  torch.Size([1, 1024])\n",
      "Size of _x:  torch.Size([4, 1024])\n",
      "Size of y:  torch.Size([1024])\n",
      "Size of _y:  torch.Size([1024])\n",
      "Size of x:  torch.Size([1, 1024])\n",
      "Size of _x:  torch.Size([4, 1024])\n",
      "Size of y:  torch.Size([1024])\n",
      "Size of _y:  torch.Size([1024])\n",
      "Size of x:  torch.Size([1, 1024])\n",
      "Size of _x:  torch.Size([4, 1024])\n",
      "Size of y:  torch.Size([1024])\n",
      "Size of _y:  torch.Size([1024])\n",
      "Size of x:  torch.Size([1, 1024])\n",
      "Size of _x:  torch.Size([4, 1024])\n",
      "Size of y:  torch.Size([1024])\n",
      "Size of _y:  torch.Size([1024])\n",
      "Size of x:  torch.Size([1, 1024])\n",
      "Size of _x:  torch.Size([4, 1024])\n",
      "Size of y:  torch.Size([1024])\n",
      "Size of _y:  torch.Size([1024])\n",
      "Size of x:  torch.Size([1, 1024])\n",
      "Size of _x:  torch.Size([4, 1024])\n",
      "Size of y:  torch.Size([1024])\n",
      "Size of _y:  torch.Size([1024])\n",
      "Size of x:  torch.Size([1, 1024])\n",
      "Size of _x:  torch.Size([4, 1024])\n",
      "Size of y:  torch.Size([1024])\n",
      "Size of _y:  torch.Size([1024])\n",
      "Size of x:  torch.Size([1, 1024])\n",
      "Size of _x:  torch.Size([4, 1024])\n",
      "Size of y:  torch.Size([1024])\n",
      "Size of _y:  torch.Size([1024])\n",
      "Size of x:  torch.Size([1, 1024])\n",
      "Size of _x:  torch.Size([4, 1024])\n",
      "Size of y:  torch.Size([1024])\n",
      "Size of _y:  torch.Size([1024])\n",
      "Size of x:  torch.Size([1, 1024])\n",
      "Size of _x:  torch.Size([4, 1024])\n",
      "Size of y:  torch.Size([1024])\n",
      "Size of _y:  torch.Size([1024])\n",
      "Size of x:  torch.Size([1, 1024])\n",
      "Size of _x:  torch.Size([4, 1024])\n",
      "Size of y:  torch.Size([1024])\n",
      "Size of _y:  torch.Size([1024])\n",
      "Size of x:  torch.Size([1, 1024])\n",
      "Size of _x:  torch.Size([4, 1024])\n",
      "Size of y:  torch.Size([1024])\n",
      "Size of _y:  torch.Size([1024])\n",
      "Size of x:  torch.Size([1, 1024])\n",
      "Size of _x:  torch.Size([4, 1024])\n",
      "Size of y:  torch.Size([1024])\n",
      "Size of _y:  torch.Size([1024])\n",
      "Size of x:  torch.Size([1, 1024])\n",
      "Size of _x:  torch.Size([4, 1024])\n",
      "Size of y:  torch.Size([1024])\n",
      "Size of _y:  torch.Size([1024])\n",
      "Size of x:  torch.Size([1, 1024])\n",
      "Size of _x:  torch.Size([4, 1024])\n",
      "Size of y:  torch.Size([1024])\n",
      "Size of _y:  torch.Size([1024])\n",
      "Size of x:  torch.Size([1, 1024])\n",
      "Size of _x:  torch.Size([4, 1024])\n",
      "Size of y:  torch.Size([1024])\n",
      "Size of _y:  torch.Size([1024])\n",
      "Size of x:  torch.Size([1, 1024])\n",
      "Size of _x:  torch.Size([4, 1024])\n",
      "Size of y:  torch.Size([1024])\n",
      "Size of _y:  torch.Size([1024])\n",
      "Size of x:  torch.Size([1, 1024])\n",
      "Size of _x:  torch.Size([4, 1024])\n",
      "Size of y:  torch.Size([1024])\n",
      "Size of _y:  torch.Size([1024])\n",
      "Size of x:  torch.Size([1, 1024])\n",
      "Size of _x:  torch.Size([4, 1024])\n",
      "Size of y:  torch.Size([1024])\n",
      "Size of _y:  torch.Size([1024])\n",
      "Size of x:  torch.Size([1, 1024])\n",
      "Size of _x:  torch.Size([4, 1024])\n",
      "Size of y:  torch.Size([1024])\n",
      "Size of _y:  torch.Size([1024])\n",
      "Size of x:  torch.Size([1, 1024])\n",
      "Size of _x:  torch.Size([4, 1024])\n",
      "Size of y:  torch.Size([1024])\n",
      "Size of _y:  torch.Size([1024])\n",
      "Size of x:  torch.Size([1, 1024])\n",
      "Size of _x:  torch.Size([4, 1024])\n",
      "Size of y:  torch.Size([1024])\n",
      "Size of _y:  torch.Size([1024])\n",
      "Size of x:  torch.Size([1, 1024])\n",
      "Size of _x:  torch.Size([4, 1024])\n",
      "Size of y:  torch.Size([1024])\n",
      "Size of _y:  torch.Size([1024])\n",
      "Size of x:  torch.Size([1, 1024])\n",
      "Size of _x:  torch.Size([4, 1024])\n",
      "Size of y:  torch.Size([1024])\n",
      "Size of _y:  torch.Size([1024])\n",
      "Size of x:  torch.Size([1, 1024])\n",
      "Size of _x:  torch.Size([4, 1024])\n",
      "Size of y:  torch.Size([1024])\n",
      "Size of _y:  torch.Size([1024])\n",
      "Size of x:  torch.Size([1, 1024])\n",
      "Size of _x:  torch.Size([4, 1024])\n",
      "Size of y:  torch.Size([1024])\n",
      "Size of _y:  torch.Size([1024])\n",
      "Size of x:  torch.Size([1, 1024])\n",
      "Size of _x:  torch.Size([4, 1024])\n",
      "Size of y:  torch.Size([1024])\n",
      "Size of _y:  torch.Size([1024])\n",
      "Size of x:  torch.Size([1, 1024])\n",
      "Size of _x:  torch.Size([4, 1024])\n",
      "Size of y:  torch.Size([1024])\n",
      "Size of _y:  torch.Size([1024])\n",
      "Size of x:  torch.Size([1, 1024])\n",
      "Size of _x:  torch.Size([4, 1024])\n",
      "Size of y:  torch.Size([1024])\n",
      "Size of _y:  torch.Size([1024])\n",
      "Size of x:  torch.Size([1, 1024])\n",
      "Size of _x:  torch.Size([4, 1024])\n",
      "Size of y:  torch.Size([1024])\n",
      "Size of _y:  torch.Size([1024])\n",
      "Size of x:  torch.Size([1, 1024])\n",
      "Size of _x:  torch.Size([4, 1024])\n",
      "Size of y:  torch.Size([1024])\n",
      "Size of _y:  torch.Size([1024])\n",
      "Size of x:  torch.Size([1, 1024])\n",
      "Size of _x:  torch.Size([4, 1024])\n",
      "Size of y:  torch.Size([1024])\n",
      "Size of _y:  torch.Size([1024])\n",
      "Size of x:  torch.Size([1, 1024])\n",
      "Size of _x:  torch.Size([4, 1024])\n",
      "Size of y:  torch.Size([1024])\n",
      "Size of _y:  torch.Size([1024])\n",
      "Size of x:  torch.Size([1, 1024])\n",
      "Size of _x:  torch.Size([4, 1024])\n",
      "Size of y:  torch.Size([1024])\n",
      "Size of _y:  torch.Size([1024])\n",
      "Size of x:  torch.Size([1, 1024])\n",
      "Size of _x:  torch.Size([4, 1024])\n",
      "Size of y:  torch.Size([1024])\n",
      "Size of _y:  torch.Size([1024])\n",
      "Size of x:  torch.Size([1, 1024])\n",
      "Size of _x:  torch.Size([4, 1024])\n",
      "Size of y:  torch.Size([1024])\n",
      "Size of _y:  torch.Size([1024])\n",
      "Size of x:  torch.Size([1, 1024])\n",
      "Size of _x:  torch.Size([4, 1024])\n",
      "Size of y:  torch.Size([1024])\n",
      "Size of _y:  torch.Size([1024])\n",
      "Size of x:  torch.Size([1, 1024])\n",
      "Size of _x:  torch.Size([4, 1024])\n",
      "Size of y:  torch.Size([1024])\n",
      "Size of _y:  torch.Size([1024])\n",
      "Size of x:  torch.Size([1, 1024])\n",
      "Size of _x:  torch.Size([4, 1024])\n",
      "Size of y:  torch.Size([1024])\n",
      "Size of _y:  torch.Size([1024])\n",
      "Size of x:  torch.Size([1, 1024])\n",
      "Size of _x:  torch.Size([4, 1024])\n",
      "Size of y:  torch.Size([1024])\n",
      "Size of _y:  torch.Size([1024])\n",
      "Size of x:  torch.Size([1, 1024])\n",
      "Size of _x:  torch.Size([4, 1024])\n",
      "Size of y:  torch.Size([1024])\n",
      "Size of _y:  torch.Size([1024])\n",
      "Size of x:  torch.Size([1, 1024])\n",
      "Size of _x:  torch.Size([4, 1024])\n",
      "Size of y:  torch.Size([1024])\n",
      "Size of _y:  torch.Size([1024])\n",
      "Size of x:  torch.Size([1, 1024])\n",
      "Size of _x:  torch.Size([4, 1024])\n",
      "Size of y:  torch.Size([1024])\n",
      "Size of _y:  torch.Size([1024])\n",
      "Size of x:  torch.Size([1, 1024])\n",
      "Size of _x:  torch.Size([4, 1024])\n",
      "Size of y:  torch.Size([1024])\n",
      "Size of _y:  torch.Size([1024])\n",
      "Size of x:  torch.Size([1, 1024])\n",
      "Size of _x:  torch.Size([4, 1024])\n",
      "Size of y:  torch.Size([1024])\n",
      "Size of _y:  torch.Size([1024])\n",
      "Size of x:  torch.Size([1, 1024])\n",
      "Size of _x:  torch.Size([4, 1024])\n",
      "Size of y:  torch.Size([1024])\n",
      "Size of _y:  torch.Size([1024])\n",
      "Size of x:  torch.Size([1, 1024])\n",
      "Size of _x:  torch.Size([4, 1024])\n",
      "Size of y:  torch.Size([1024])\n",
      "Size of _y:  torch.Size([1024])\n",
      "Size of x:  torch.Size([1, 1024])\n",
      "Size of _x:  torch.Size([4, 1024])\n",
      "Size of y:  torch.Size([1024])\n",
      "Size of _y:  torch.Size([1024])\n",
      "Size of x:  torch.Size([1, 1024])\n",
      "Size of _x:  torch.Size([4, 1024])\n",
      "Size of y:  torch.Size([1024])\n",
      "Size of _y:  torch.Size([1024])\n",
      "Size of x:  torch.Size([1, 1024])\n",
      "Size of _x:  torch.Size([4, 1024])\n",
      "Size of y:  torch.Size([1024])\n",
      "Size of _y:  torch.Size([1024])\n",
      "Size of x:  torch.Size([1, 1024])\n",
      "Size of _x:  torch.Size([4, 1024])\n",
      "Size of y:  torch.Size([1024])\n",
      "Size of _y:  torch.Size([1024])\n",
      "Size of x:  torch.Size([1, 1024])\n",
      "Size of _x:  torch.Size([4, 1024])\n",
      "Size of y:  torch.Size([1024])\n",
      "Size of _y:  torch.Size([1024])\n",
      "Size of x:  torch.Size([1, 1024])\n",
      "Size of _x:  torch.Size([4, 1024])\n",
      "Size of y:  torch.Size([1024])\n",
      "Size of _y:  torch.Size([1024])\n",
      "Size of x:  torch.Size([1, 1024])\n",
      "Size of _x:  torch.Size([4, 1024])\n",
      "Size of y:  torch.Size([1024])\n",
      "Size of _y:  torch.Size([1024])\n",
      "Size of x:  torch.Size([1, 1024])\n",
      "Size of _x:  torch.Size([4, 1024])\n",
      "Size of y:  torch.Size([1024])\n",
      "Size of _y:  torch.Size([1024])\n",
      "Size of x:  torch.Size([1, 1024])\n",
      "Size of _x:  torch.Size([4, 1024])\n",
      "Size of y:  torch.Size([1024])\n",
      "Size of _y:  torch.Size([1024])\n",
      "Size of x:  torch.Size([1, 1024])\n",
      "Size of _x:  torch.Size([4, 1024])\n",
      "Size of y:  torch.Size([1024])\n",
      "Size of _y:  torch.Size([1024])\n",
      "Size of x:  torch.Size([1, 1024])\n",
      "Size of _x:  torch.Size([4, 1024])\n",
      "Size of y:  torch.Size([1024])\n",
      "Size of _y:  torch.Size([1024])\n",
      "Size of x:  torch.Size([1, 1024])\n",
      "Size of _x:  torch.Size([4, 1024])\n",
      "Size of y:  torch.Size([1024])\n",
      "Size of _y:  torch.Size([1024])\n",
      "Size of x:  torch.Size([1, 1024])\n",
      "Size of _x:  torch.Size([4, 1024])\n",
      "Size of y:  torch.Size([1024])\n",
      "Size of _y:  torch.Size([1024])\n",
      "Size of x:  torch.Size([1, 1024])\n",
      "Size of _x:  torch.Size([4, 1024])\n",
      "Size of y:  torch.Size([1024])\n",
      "Size of _y:  torch.Size([1024])\n",
      "Size of x:  torch.Size([1, 1024])\n",
      "Size of _x:  torch.Size([4, 1024])\n",
      "Size of y:  torch.Size([1024])\n",
      "Size of _y:  torch.Size([1024])\n",
      "Size of x:  torch.Size([1, 1024])\n",
      "Size of _x:  torch.Size([4, 1024])\n",
      "Size of y:  torch.Size([1024])\n",
      "Size of _y:  torch.Size([1024])\n",
      "Size of x:  torch.Size([1, 1024])\n",
      "Size of _x:  torch.Size([4, 1024])\n",
      "Size of y:  torch.Size([1024])\n",
      "Size of _y:  torch.Size([1024])\n",
      "Size of x:  torch.Size([1, 1024])\n",
      "Size of _x:  torch.Size([4, 1024])\n",
      "Size of y:  torch.Size([1024])\n",
      "Size of _y:  torch.Size([1024])\n",
      "Size of x:  torch.Size([1, 1024])\n",
      "Size of _x:  torch.Size([4, 1024])\n",
      "Size of y:  torch.Size([1024])\n",
      "Size of _y:  torch.Size([1024])\n",
      "Size of x:  torch.Size([1, 1024])\n",
      "Size of _x:  torch.Size([4, 1024])\n",
      "Size of y:  torch.Size([1024])\n",
      "Size of _y:  torch.Size([1024])\n",
      "Size of x:  torch.Size([1, 1024])\n",
      "Size of _x:  torch.Size([4, 1024])\n",
      "Size of y:  torch.Size([1024])\n",
      "Size of _y:  torch.Size([1024])\n",
      "Size of x:  torch.Size([1, 1024])\n",
      "Size of _x:  torch.Size([4, 1024])\n",
      "Size of y:  torch.Size([1024])\n",
      "Size of _y:  torch.Size([1024])\n",
      "Size of x:  torch.Size([1, 1024])\n",
      "Size of _x:  torch.Size([4, 1024])\n",
      "Size of y:  torch.Size([1024])\n",
      "Size of _y:  torch.Size([1024])\n",
      "Size of x:  torch.Size([1, 1024])\n",
      "Size of _x:  torch.Size([4, 1024])\n",
      "Size of y:  torch.Size([1024])\n",
      "Size of _y:  torch.Size([1024])\n",
      "Size of x:  torch.Size([1, 1024])\n",
      "Size of _x:  torch.Size([4, 1024])\n",
      "Size of y:  torch.Size([1024])\n",
      "Size of _y:  torch.Size([1024])\n",
      "Size of x:  torch.Size([1, 1024])\n",
      "Size of _x:  torch.Size([4, 1024])\n",
      "Size of y:  torch.Size([1024])\n",
      "Size of _y:  torch.Size([1024])\n",
      "Size of x:  torch.Size([1, 1024])\n",
      "Size of _x:  torch.Size([4, 1024])\n",
      "Size of y:  torch.Size([1024])\n",
      "Size of _y:  torch.Size([1024])\n",
      "Size of x:  torch.Size([1, 1024])\n",
      "Size of _x:  torch.Size([4, 1024])\n",
      "Size of y:  torch.Size([1024])\n",
      "Size of _y:  torch.Size([1024])\n",
      "Size of x:  torch.Size([1, 1024])\n",
      "Size of _x:  torch.Size([4, 1024])\n",
      "Size of y:  torch.Size([1024])\n",
      "Size of _y:  torch.Size([1024])\n",
      "Size of x:  torch.Size([1, 1024])\n",
      "Size of _x:  torch.Size([4, 1024])\n",
      "Size of y:  torch.Size([1024])\n",
      "Size of _y:  torch.Size([1024])\n",
      "Size of x:  torch.Size([1, 1024])\n",
      "Size of _x:  torch.Size([4, 1024])\n",
      "Size of y:  torch.Size([1024])\n",
      "Size of _y:  torch.Size([1024])\n",
      "Size of x:  torch.Size([1, 1024])\n",
      "Size of _x:  torch.Size([4, 1024])\n",
      "Size of y:  torch.Size([1024])\n",
      "Size of _y:  torch.Size([1024])\n",
      "Size of x:  torch.Size([1, 1024])\n",
      "Size of _x:  torch.Size([4, 1024])\n",
      "Size of y:  torch.Size([1024])\n",
      "Size of _y:  torch.Size([1024])\n",
      "Size of x:  torch.Size([1, 1024])\n",
      "Size of _x:  torch.Size([4, 1024])\n",
      "Size of y:  torch.Size([1024])\n",
      "Size of _y:  torch.Size([1024])\n",
      "Size of x:  torch.Size([1, 1024])\n",
      "Size of _x:  torch.Size([4, 1024])\n",
      "Size of y:  torch.Size([1024])\n",
      "Size of _y:  torch.Size([1024])\n",
      "Size of x:  torch.Size([1, 1024])\n",
      "Size of _x:  torch.Size([4, 1024])\n",
      "Size of y:  torch.Size([1024])\n",
      "Size of _y:  torch.Size([1024])\n",
      "Size of x:  torch.Size([1, 1024])\n",
      "Size of _x:  torch.Size([4, 1024])\n",
      "Size of y:  torch.Size([1024])\n",
      "Size of _y:  torch.Size([1024])\n",
      "Size of x:  torch.Size([1, 1024])\n",
      "Size of _x:  torch.Size([4, 1024])\n",
      "Size of y:  torch.Size([1024])\n",
      "Size of _y:  torch.Size([1024])\n",
      "Size of x:  torch.Size([1, 1024])\n",
      "Size of _x:  torch.Size([4, 1024])\n",
      "Size of y:  torch.Size([1024])\n",
      "Size of _y:  torch.Size([1024])\n",
      "Size of x:  torch.Size([1, 1024])\n",
      "Size of _x:  torch.Size([4, 1024])\n",
      "Size of y:  torch.Size([1024])\n",
      "Size of _y:  torch.Size([1024])\n",
      "Size of x:  torch.Size([1, 1024])\n",
      "Size of _x:  torch.Size([4, 1024])\n",
      "Size of y:  torch.Size([1024])\n",
      "Size of _y:  torch.Size([1024])\n",
      "Size of x:  torch.Size([1, 1024])\n",
      "Size of _x:  torch.Size([4, 1024])\n",
      "Size of y:  torch.Size([1024])\n",
      "Size of _y:  torch.Size([1024])\n",
      "Size of x:  torch.Size([1, 1024])\n",
      "Size of _x:  torch.Size([4, 1024])\n",
      "Size of y:  torch.Size([1024])\n",
      "Size of _y:  torch.Size([1024])\n",
      "Size of x:  torch.Size([1, 1024])\n",
      "Size of _x:  torch.Size([4, 1024])\n",
      "Size of y:  torch.Size([1024])\n",
      "Size of _y:  torch.Size([1024])\n",
      "Size of x:  torch.Size([1, 1024])\n",
      "Size of _x:  torch.Size([4, 1024])\n",
      "Size of y:  torch.Size([1024])\n",
      "Size of _y:  torch.Size([1024])\n",
      "Size of x:  torch.Size([1, 1024])\n",
      "Size of _x:  torch.Size([4, 1024])\n",
      "Size of y:  torch.Size([1024])\n",
      "Size of _y:  torch.Size([1024])\n",
      "Size of x:  torch.Size([1, 1024])\n",
      "Size of _x:  torch.Size([4, 1024])\n",
      "Size of y:  torch.Size([1024])\n",
      "Size of _y:  torch.Size([1024])\n",
      "Size of x:  torch.Size([1, 1024])\n",
      "Size of _x:  torch.Size([4, 1024])\n",
      "Size of y:  torch.Size([1024])\n",
      "Size of _y:  torch.Size([1024])\n",
      "Size of x:  torch.Size([1, 1024])\n",
      "Size of _x:  torch.Size([4, 1024])\n",
      "Size of y:  torch.Size([1024])\n",
      "Size of _y:  torch.Size([1024])\n",
      "Size of x:  torch.Size([1, 1024])\n",
      "Size of _x:  torch.Size([4, 1024])\n",
      "Size of y:  torch.Size([1024])\n",
      "Size of _y:  torch.Size([1024])\n",
      "Size of x:  torch.Size([1, 1024])\n",
      "Size of _x:  torch.Size([4, 1024])\n",
      "Size of y:  torch.Size([1024])\n",
      "Size of _y:  torch.Size([1024])\n",
      "Size of x:  torch.Size([1, 1024])\n",
      "Size of _x:  torch.Size([4, 1024])\n",
      "Size of y:  torch.Size([1024])\n",
      "Size of _y:  torch.Size([1024])\n",
      "Size of x:  torch.Size([1, 1024])\n",
      "Size of _x:  torch.Size([4, 1024])\n",
      "Size of y:  torch.Size([1024])\n",
      "Size of _y:  torch.Size([1024])\n",
      "Size of x:  torch.Size([1, 1024])\n",
      "Size of _x:  torch.Size([4, 1024])\n",
      "Size of y:  torch.Size([1024])\n",
      "Size of _y:  torch.Size([1024])\n",
      "Size of x:  torch.Size([1, 1024])\n",
      "Size of _x:  torch.Size([4, 1024])\n",
      "Size of y:  torch.Size([1024])\n",
      "Size of _y:  torch.Size([1024])\n",
      "Size of x:  torch.Size([1, 1024])\n",
      "Size of _x:  torch.Size([4, 1024])\n",
      "Size of y:  torch.Size([1024])\n",
      "Size of _y:  torch.Size([1024])\n",
      "Size of x:  torch.Size([1, 1024])\n",
      "Size of _x:  torch.Size([4, 1024])\n",
      "Size of y:  torch.Size([1024])\n",
      "Size of _y:  torch.Size([1024])\n",
      "Size of x:  torch.Size([1, 1024])\n",
      "Size of _x:  torch.Size([4, 1024])\n",
      "Size of y:  torch.Size([1024])\n",
      "Size of _y:  torch.Size([1024])\n",
      "Size of x:  torch.Size([1, 1024])\n",
      "Size of _x:  torch.Size([4, 1024])\n",
      "Size of y:  torch.Size([1024])\n",
      "Size of _y:  torch.Size([1024])\n",
      "Size of x:  torch.Size([1, 1024])\n",
      "Size of _x:  torch.Size([4, 1024])\n",
      "Size of y:  torch.Size([1024])\n",
      "Size of _y:  torch.Size([1024])\n"
     ]
    }
   ],
   "source": [
    "seq_length = 4\n",
    "x_train, y_train = sliding_windows(train_codes_cpu, seq_length)"
   ]
  },
  {
   "cell_type": "code",
   "execution_count": 41,
   "metadata": {},
   "outputs": [],
   "source": [
    "class LSTM(nn.Module):\n",
    "\n",
    "    def __init__(self, num_classes, input_size, hidden_size, num_layers, device):\n",
    "        super(LSTM, self).__init__()\n",
    "        \n",
    "        self.num_classes = num_classes\n",
    "        self.num_layers = num_layers\n",
    "        self.input_size = input_size\n",
    "        self.hidden_size = hidden_size\n",
    "        self.seq_length = seq_length\n",
    "        \n",
    "        self.lstm = nn.LSTM(input_size=input_size, hidden_size=hidden_size,\n",
    "                            num_layers=num_layers, batch_first=True)\n",
    "        \n",
    "        self.fc = nn.Linear(hidden_size, num_classes)\n",
    "\n",
    "    def forward(self, x):\n",
    "        h_0 = Variable(torch.zeros(\n",
    "            self.num_layers, x.size(0), self.hidden_size)).to(device)\n",
    "        \n",
    "        c_0 = Variable(torch.zeros(\n",
    "            self.num_layers, x.size(0), self.hidden_size)).to(device)\n",
    "        \n",
    "        # Propagate input through LSTM\n",
    "        ula, (h_out, _) = self.lstm(x, (h_0, c_0))\n",
    "        \n",
    "        h_out = h_out.view(-1, self.hidden_size)\n",
    "        \n",
    "        out = self.fc(h_out)\n",
    "        \n",
    "        return out"
   ]
  },
  {
   "cell_type": "code",
   "execution_count": 42,
   "metadata": {},
   "outputs": [
    {
     "name": "stdout",
     "output_type": "stream",
     "text": [
      "True\n"
     ]
    }
   ],
   "source": [
    "use_cuda = torch.cuda.is_available()\n",
    "print(use_cuda)"
   ]
  },
  {
   "cell_type": "code",
   "execution_count": 43,
   "metadata": {},
   "outputs": [
    {
     "name": "stdout",
     "output_type": "stream",
     "text": [
      "Number of parameters:  3150850\n"
     ]
    },
    {
     "ename": "NameError",
     "evalue": "name 'trainX' is not defined",
     "output_type": "error",
     "traceback": [
      "\u001b[1;31m---------------------------------------------------------------------------\u001b[0m",
      "\u001b[1;31mNameError\u001b[0m                                 Traceback (most recent call last)",
      "Cell \u001b[1;32mIn[43], line 24\u001b[0m\n\u001b[0;32m     20\u001b[0m \u001b[39m#optimizer = torch.optim.SGD(lstm.parameters(), lr=learning_rate)\u001b[39;00m\n\u001b[0;32m     21\u001b[0m \n\u001b[0;32m     22\u001b[0m \u001b[39m# Train the model\u001b[39;00m\n\u001b[0;32m     23\u001b[0m \u001b[39mfor\u001b[39;00m epoch \u001b[39min\u001b[39;00m \u001b[39mrange\u001b[39m(num_epochs):\n\u001b[1;32m---> 24\u001b[0m     outputs \u001b[39m=\u001b[39m lstm(trainX\u001b[39m.\u001b[39mto(device))\n\u001b[0;32m     25\u001b[0m     optimizer\u001b[39m.\u001b[39mzero_grad()\n\u001b[0;32m     27\u001b[0m     \u001b[39m# obtain the loss function\u001b[39;00m\n",
      "\u001b[1;31mNameError\u001b[0m: name 'trainX' is not defined"
     ]
    }
   ],
   "source": [
    "num_epochs = 10\n",
    "learning_rate = 0.001\n",
    "\n",
    "input_size = 1024\n",
    "hidden_size = 512\n",
    "num_layers = 1\n",
    "\n",
    "num_classes = 2\n",
    "\n",
    "# locate our GPU device and initialize it for training\n",
    "use_cuda = torch.cuda.is_available()\n",
    "device = torch.device('cuda' if use_cuda else 'cpu')\n",
    "\n",
    "lstm = LSTM(num_classes, input_size, hidden_size, num_layers, device)\n",
    "lstm.to(device)\n",
    "print(\"Number of parameters: \", sum(p.numel() for p in lstm.parameters()))\n",
    "\n",
    "criterion = torch.nn.MSELoss()    # mean-squared error for regression\n",
    "optimizer = torch.optim.Adam(lstm.parameters(), lr=learning_rate)\n",
    "#optimizer = torch.optim.SGD(lstm.parameters(), lr=learning_rate)\n",
    "\n",
    "# Train the model\n",
    "for epoch in range(num_epochs):\n",
    "    outputs = lstm(trainX.to(device))\n",
    "    optimizer.zero_grad()\n",
    "    \n",
    "    # obtain the loss function\n",
    "    loss = criterion(outputs, trainY.to(device))\n",
    "    \n",
    "    loss.backward()\n",
    "    \n",
    "    optimizer.step()\n",
    "    if epoch % 100 == 0:\n",
    "      print(\"Epoch: %d, loss: %1.5f\" % (epoch, loss.item()))"
   ]
  },
  {
   "cell_type": "code",
   "execution_count": null,
   "metadata": {},
   "outputs": [],
   "source": []
  }
 ],
 "metadata": {
  "kernelspec": {
   "display_name": "myenv",
   "language": "python",
   "name": "python3"
  },
  "language_info": {
   "codemirror_mode": {
    "name": "ipython",
    "version": 3
   },
   "file_extension": ".py",
   "mimetype": "text/x-python",
   "name": "python",
   "nbconvert_exporter": "python",
   "pygments_lexer": "ipython3",
   "version": "3.10.8"
  }
 },
 "nbformat": 4,
 "nbformat_minor": 4
}
