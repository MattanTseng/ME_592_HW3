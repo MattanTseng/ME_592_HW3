{
 "cells": [
  {
   "cell_type": "code",
   "execution_count": 1,
   "metadata": {},
   "outputs": [],
   "source": [
    "import numpy as np\n",
    "import pandas\n",
    "import torch\n",
    "import torch.nn as nn\n",
    "from model.decoder import Decoder\n",
    "from model.encoder import Encoder\n",
    "from model.autoencoder import AE"
   ]
  },
  {
   "cell_type": "code",
   "execution_count": 2,
   "metadata": {},
   "outputs": [],
   "source": [
    "ae_pretrain = AE(Encoder, Decoder)"
   ]
  },
  {
   "cell_type": "code",
   "execution_count": 3,
   "metadata": {},
   "outputs": [
    {
     "data": {
      "text/plain": [
       "<All keys matched successfully>"
      ]
     },
     "execution_count": 3,
     "metadata": {},
     "output_type": "execute_result"
    }
   ],
   "source": [
    "ae_pretrain.load_state_dict(torch.load('./logging/model.pth'))"
   ]
  },
  {
   "cell_type": "code",
   "execution_count": 4,
   "metadata": {},
   "outputs": [],
   "source": [
    "from utils.data_loading import CombustionSystemDataset\n",
    "\n",
    "PATH = 'Zare_data/combustion_img_13.mat'\n",
    "\n",
    "train_data = CombustionSystemDataset(PATH,'train_set_x','train_set_y')\n",
    "test_data = CombustionSystemDataset(PATH,'test_set_x','test_set_y')"
   ]
  },
  {
   "cell_type": "code",
   "execution_count": 5,
   "metadata": {},
   "outputs": [],
   "source": [
    "train_loader = torch.utils.data.DataLoader(dataset=train_data, batch_size=6, shuffle=False)\n",
    "test_loader = torch.utils.data.DataLoader(dataset=test_data, batch_size=6, shuffle=False)"
   ]
  },
  {
   "cell_type": "code",
   "execution_count": 6,
   "metadata": {},
   "outputs": [
    {
     "data": {
      "text/plain": [
       "AE(\n",
       "  (encoder): Encoder(\n",
       "    (conv_layers): Sequential(\n",
       "      (0): Conv2d(1, 32, kernel_size=(5, 3), stride=(2, 2), padding=(1, 1))\n",
       "      (1): ReLU()\n",
       "      (2): Conv2d(32, 64, kernel_size=(5, 3), stride=(2, 2), padding=(1, 1))\n",
       "      (3): ReLU()\n",
       "      (4): Conv2d(64, 128, kernel_size=(3, 3), stride=(2, 2))\n",
       "      (5): ReLU()\n",
       "    )\n",
       "    (dense_layers): Sequential(\n",
       "      (0): Dropout(p=0.2, inplace=False)\n",
       "      (1): Linear(in_features=46080, out_features=512, bias=True)\n",
       "      (2): ReLU()\n",
       "      (3): Dropout(p=0.2, inplace=False)\n",
       "      (4): Linear(in_features=512, out_features=1024, bias=True)\n",
       "    )\n",
       "    (flatten): Flatten(start_dim=1, end_dim=-1)\n",
       "  )\n",
       "  (decoder): Decoder(\n",
       "    (conv_layers): Sequential(\n",
       "      (0): ConvTranspose2d(128, 64, kernel_size=(3, 3), stride=(2, 2), output_padding=(1, 1))\n",
       "      (1): ReLU()\n",
       "      (2): ConvTranspose2d(64, 32, kernel_size=(5, 3), stride=(2, 2), padding=(1, 1), output_padding=(1, 0))\n",
       "      (3): ReLU()\n",
       "      (4): ConvTranspose2d(32, 1, kernel_size=(5, 3), stride=(2, 2), padding=(1, 1), output_padding=(1, 1))\n",
       "      (5): ReLU()\n",
       "    )\n",
       "    (unflatten): Unflatten(dim=1, unflattened_size=(128, 30, 12))\n",
       "    (dense_layers): Sequential(\n",
       "      (0): Linear(in_features=1024, out_features=1024, bias=True)\n",
       "      (1): ReLU()\n",
       "      (2): Dropout(p=0.2, inplace=False)\n",
       "      (3): Linear(in_features=1024, out_features=46080, bias=True)\n",
       "      (4): ReLU()\n",
       "      (5): Dropout(p=0.2, inplace=False)\n",
       "    )\n",
       "  )\n",
       ")"
      ]
     },
     "execution_count": 6,
     "metadata": {},
     "output_type": "execute_result"
    }
   ],
   "source": [
    "device = torch.device('cuda' if torch.cuda.is_available() else 'cpu')\n",
    "ae_pretrain.to(device)"
   ]
  },
  {
   "cell_type": "code",
   "execution_count": 7,
   "metadata": {},
   "outputs": [
    {
     "name": "stdout",
     "output_type": "stream",
     "text": [
      "Batch:  1000\n",
      "Batch:  2000\n",
      "Batch:  3000\n",
      "Batch:  4000\n",
      "Batch:  5000\n",
      "Batch:  6000\n",
      "Batch:  7000\n",
      "Batch:  8000\n",
      "Batch:  9000\n"
     ]
    }
   ],
   "source": [
    "batch_ct=0   #Diagnositic\n",
    "for train_images, train_targets in train_loader:\n",
    "    batch_ct=batch_ct+1\n",
    "    train_images, train_targets = train_images.to(device), train_targets.to(device)\n",
    "    train_codes = ae_pretrain.encoder(train_images)\n",
    "  \n",
    "    df_code = pandas.DataFrame(train_codes.to('cpu').detach().numpy())\n",
    "    df_class=pandas.DataFrame(train_targets.to('cpu').detach().numpy())\n",
    "    df_code.to_csv('train_embbeds.csv', mode='a', index=False, header=False)\n",
    "    df_class.to_csv('train_labels.csv', mode='a', index=False, header=False)\n",
    "\n",
    "    if batch_ct % 1000 == 0:\n",
    "        print(\"Batch: \",batch_ct)"
   ]
  },
  {
   "cell_type": "code",
   "execution_count": 8,
   "metadata": {},
   "outputs": [
    {
     "name": "stdout",
     "output_type": "stream",
     "text": [
      "Batch:  1000\n",
      "Batch:  2000\n",
      "Batch:  3000\n"
     ]
    }
   ],
   "source": [
    "batch_ct=0 \n",
    "for test_images, test_targets in test_loader:\n",
    "    \n",
    "    test_images, test_targets = test_images.to(device), test_targets.to(device)\n",
    "    test_codes = ae_pretrain.encoder(test_images)\n",
    "  \n",
    "    df_code = pandas.DataFrame(test_codes.to('cpu').detach().numpy())\n",
    "    df_class=pandas.DataFrame(test_targets.to('cpu').detach().numpy())\n",
    "    df_code.to_csv('test_embbeds.csv', mode='a', index=False, header=False)\n",
    "    df_class.to_csv('test_labels.csv', mode='a', index=False, header=False)\n",
    "\n",
    "    batch_ct=batch_ct+1\n",
    "    if batch_ct % 1000 == 0:\n",
    "        print(\"Batch: \",batch_ct)"
   ]
  },
  {
   "cell_type": "code",
   "execution_count": 9,
   "metadata": {},
   "outputs": [],
   "source": [
    "valid_data = CombustionSystemDataset(PATH,'valid_set_x','valid_set_y')\n",
    "valid_loader = torch.utils.data.DataLoader(dataset=valid_data, batch_size=6, shuffle=False)"
   ]
  },
  {
   "cell_type": "code",
   "execution_count": 10,
   "metadata": {},
   "outputs": [
    {
     "name": "stdout",
     "output_type": "stream",
     "text": [
      "Batch:  1000\n"
     ]
    }
   ],
   "source": [
    "batch_ct=0   #Diagnositic\n",
    "for valid_images, valid_targets in valid_loader:\n",
    "    \n",
    "    valid_images, valid_targets = valid_images.to(device), valid_targets.to(device)\n",
    "    valid_codes = ae_pretrain.encoder(valid_images)\n",
    "  \n",
    "    df_code = pandas.DataFrame(valid_codes.to('cpu').detach().numpy())\n",
    "    df_class = pandas.DataFrame(valid_targets.to('cpu').detach().numpy())\n",
    "    df_code.to_csv('valid_embbeds.csv', mode='a', index=False, header=False)\n",
    "    df_class.to_csv('valid_labels.csv', mode='a', index=False, header=False)\n",
    "\n",
    "    batch_ct=batch_ct+1\n",
    "    if batch_ct % 1000 == 0:\n",
    "        print(\"Batch: \",batch_ct)"
   ]
  }
 ],
 "metadata": {
  "kernelspec": {
   "display_name": "me592",
   "language": "python",
   "name": "me592"
  },
  "language_info": {
   "codemirror_mode": {
    "name": "ipython",
    "version": 3
   },
   "file_extension": ".py",
   "mimetype": "text/x-python",
   "name": "python",
   "nbconvert_exporter": "python",
   "pygments_lexer": "ipython3",
   "version": "3.9.7"
  }
 },
 "nbformat": 4,
 "nbformat_minor": 4
}
