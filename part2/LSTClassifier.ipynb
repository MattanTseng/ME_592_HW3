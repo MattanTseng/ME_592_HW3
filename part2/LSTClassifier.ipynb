{
 "cells": [
  {
   "cell_type": "code",
   "execution_count": 21,
   "id": "b6bf3957",
   "metadata": {},
   "outputs": [],
   "source": [
    "import time\n",
    "import datetime\n",
    "import numpy as np\n",
    "import pandas as pd\n",
    "import torch\n",
    "import torch.nn as nn\n",
    "import torchvision\n",
    "import matplotlib.pyplot as plt\n",
    "from torch.autograd import Variable"
   ]
  },
  {
   "cell_type": "code",
   "execution_count": 8,
   "id": "2d149de5",
   "metadata": {},
   "outputs": [
    {
     "name": "stdout",
     "output_type": "stream",
     "text": [
      "(53999, 1024)\n",
      "(53999, 1)\n"
     ]
    }
   ],
   "source": [
    "# Load training embeddings and labels\n",
    "train_codes = pd.read_csv('train_embbeds.csv')\n",
    "train_labels = pd.read_csv('train_labels.csv')\n",
    "train_set = train_codes.iloc[:,0:1024].values\n",
    "train_set_labels= train_labels.iloc[:,:].values\n",
    "print(train_set.shape)\n",
    "print(train_set_labels.shape)"
   ]
  },
  {
   "cell_type": "code",
   "execution_count": 9,
   "id": "e33fb7fd-ce77-42e5-b447-b74d30ae9900",
   "metadata": {},
   "outputs": [
    {
     "name": "stdout",
     "output_type": "stream",
     "text": [
      "(8999, 1024)\n",
      "(8999, 1)\n"
     ]
    }
   ],
   "source": [
    "# Load validation embeddings and labels\n",
    "valid_codes = pd.read_csv('valid_embbeds.csv')\n",
    "valid_labels = pd.read_csv('valid_labels.csv')\n",
    "valid_set = valid_codes.iloc[:,0:1024].values\n",
    "valid_set_labels= valid_labels.iloc[:,:].values\n",
    "print(valid_set.shape)\n",
    "print(valid_set_labels.shape)"
   ]
  },
  {
   "cell_type": "code",
   "execution_count": 10,
   "id": "438dc7d2",
   "metadata": {},
   "outputs": [
    {
     "name": "stdout",
     "output_type": "stream",
     "text": [
      "(17999, 1024)\n",
      "(17999, 1)\n"
     ]
    }
   ],
   "source": [
    "# Load test embeddings and labels\n",
    "test_codes = pd.read_csv('test_embbeds.csv')\n",
    "test_labels = pd.read_csv('test_labels.csv')\n",
    "test_set = test_codes.iloc[:,0:1024].values\n",
    "test_set_labels= test_labels.iloc[:,:].values\n",
    "print(test_set.shape)\n",
    "print(test_set_labels.shape)"
   ]
  },
  {
   "cell_type": "code",
   "execution_count": 11,
   "id": "95184256",
   "metadata": {},
   "outputs": [],
   "source": [
    "def sliding_windows(dataX,dataY, seq_length):\n",
    "    print(\"shape of data: \", dataX.shape)\n",
    "    print(\"shape of data labels: \", dataY.shape)\n",
    "    print(\"seq_length: \", seq_length)\n",
    "    \n",
    "    x = [] #Sliding window of embeddings\n",
    "    y = [] #Predicted label\n",
    "    \n",
    "    for i in range(len(dataX)-seq_length-1):\n",
    "        _x = dataX[i:(i+seq_length)]\n",
    "        _y = dataY[i+seq_length]\n",
    "        x.append(_x)\n",
    "        y.append(_y)\n",
    "    \n",
    "    x_array=np.array(x)\n",
    "    y_array=np.array(y)\n",
    "    \n",
    "    return torch.tensor(x_array), torch.tensor(y_array)"
   ]
  },
  {
   "cell_type": "code",
   "execution_count": 12,
   "id": "b0225a06",
   "metadata": {},
   "outputs": [
    {
     "name": "stdout",
     "output_type": "stream",
     "text": [
      "shape of data:  (53999, 1024)\n",
      "shape of data labels:  (53999, 1)\n",
      "seq_length:  5\n",
      "The shape of x_train:  torch.Size([53993, 5, 1024])\n",
      "The shape of y_train:  torch.Size([53993, 1])\n"
     ]
    }
   ],
   "source": [
    "seq_length = 5\n",
    "x_train, y_train = sliding_windows(train_set, train_set_labels, seq_length)\n",
    "\n",
    "print(\"The shape of x_train: \", x_train.size())\n",
    "print(\"The shape of y_train: \", y_train.size())\n",
    "\n",
    "x_train=x_train.float()\n",
    "y_train=y_train.float()"
   ]
  },
  {
   "cell_type": "code",
   "execution_count": 13,
   "id": "787ad12c-a715-4a8a-9ebc-161676265b5d",
   "metadata": {},
   "outputs": [
    {
     "name": "stdout",
     "output_type": "stream",
     "text": [
      "shape of data:  (17999, 1024)\n",
      "shape of data labels:  (17999, 1)\n",
      "seq_length:  5\n",
      "The shape of x_train:  torch.Size([17993, 5, 1024])\n",
      "The shape of y_train:  torch.Size([17993, 1])\n"
     ]
    }
   ],
   "source": [
    "seq_length = 5\n",
    "x_test, y_test = sliding_windows(test_set, test_set_labels, seq_length)\n",
    "\n",
    "print(\"The shape of x_train: \", x_test.size())\n",
    "print(\"The shape of y_train: \", y_test.size())\n",
    "\n",
    "x_test=x_test.float()\n",
    "y_test=y_test.float() "
   ]
  },
  {
   "cell_type": "code",
   "execution_count": 14,
   "id": "b195c45c-fe8e-42c3-ab64-233f0ff95388",
   "metadata": {},
   "outputs": [
    {
     "name": "stdout",
     "output_type": "stream",
     "text": [
      "shape of data:  (8999, 1024)\n",
      "shape of data labels:  (8999, 1)\n",
      "seq_length:  5\n",
      "The shape of x_valid:  torch.Size([8993, 5, 1024])\n",
      "The shape of y_valid:  torch.Size([8993, 1])\n"
     ]
    }
   ],
   "source": [
    "x_valid, y_valid = sliding_windows(valid_set, valid_set_labels, seq_length)\n",
    "\n",
    "print(\"The shape of x_valid: \", x_valid.size())\n",
    "print(\"The shape of y_valid: \", y_valid.size())\n",
    "\n",
    "x_valid=x_valid.float()\n",
    "y_valid=y_valid.float()"
   ]
  },
  {
   "cell_type": "code",
   "execution_count": 15,
   "id": "bce23fa1",
   "metadata": {},
   "outputs": [],
   "source": [
    "class LSTM(nn.Module):\n",
    "\n",
    "    def __init__(self, num_classes, input_size, hidden_size, num_layers, device):\n",
    "        super(LSTM, self).__init__()\n",
    "        \n",
    "        self.num_classes = num_classes\n",
    "        self.num_layers = num_layers\n",
    "        self.input_size = input_size\n",
    "        self.hidden_size = hidden_size\n",
    "        self.seq_length = seq_length\n",
    "        \n",
    "        self.lstm = nn.LSTM(input_size=input_size, hidden_size=hidden_size,\n",
    "                            num_layers=num_layers, batch_first=True)\n",
    "        \n",
    "        self.fc = nn.Linear(hidden_size, num_classes)\n",
    "\n",
    "    def forward(self, x):\n",
    "        h_0 = Variable(torch.zeros(\n",
    "            self.num_layers, x.size(0), self.hidden_size)).to(device)\n",
    "        \n",
    "        c_0 = Variable(torch.zeros(\n",
    "            self.num_layers, x.size(0), self.hidden_size)).to(device)\n",
    "        \n",
    "        # Propagate input through LSTM\n",
    "        ula, (h_out, _) = self.lstm(x, (h_0, c_0))\n",
    "        \n",
    "        h_out = h_out.view(-1, self.hidden_size)\n",
    "        \n",
    "        out = self.fc(h_out)\n",
    "        \n",
    "        return out"
   ]
  },
  {
   "cell_type": "code",
   "execution_count": 17,
   "id": "da620c9a-414d-4142-b44a-0bc8fff1fe69",
   "metadata": {},
   "outputs": [],
   "source": [
    "batch_size=8192 #Large batch size to preserve sequential data\n",
    "\n",
    "train_dataset = torch.utils.data.TensorDataset(x_train, y_train)\n",
    "train_loader = torch.utils.data.DataLoader(train_dataset, batch_size=batch_size, shuffle=False)\n",
    "\n",
    "test_dataset = torch.utils.data.TensorDataset(x_test, y_test)\n",
    "test_loader = torch.utils.data.DataLoader(test_dataset, batch_size=batch_size, shuffle=False)\n",
    "\n",
    "valid_dataset = torch.utils.data.TensorDataset(x_valid, y_valid)\n",
    "valid_loader = torch.utils.data.DataLoader(valid_dataset, batch_size=batch_size, shuffle=False)\n"
   ]
  },
  {
   "cell_type": "code",
   "execution_count": 31,
   "id": "295458ed",
   "metadata": {},
   "outputs": [
    {
     "name": "stdout",
     "output_type": "stream",
     "text": [
      "Number of parameters:  3150337\n"
     ]
    }
   ],
   "source": [
    "learning_rate = 0.00034\n",
    "\n",
    "input_size = 1024\n",
    "hidden_size = 512\n",
    "num_layers = 1\n",
    "\n",
    "num_classes = 1\n",
    "\n",
    "use_cuda = torch.cuda.is_available()\n",
    "device = torch.device('cuda' if use_cuda else 'cpu')\n",
    "\n",
    "lstm = LSTM(num_classes, input_size, hidden_size, num_layers, device)\n",
    "lstm.to(device)\n",
    "print(\"Number of parameters: \", sum(p.numel() for p in lstm.parameters()))\n",
    "\n",
    "criterion = torch.nn.MSELoss()    # mean-sqaured error for regression\n",
    "optimizer = torch.optim.Adam(lstm.parameters(), lr=learning_rate)"
   ]
  },
  {
   "cell_type": "code",
   "execution_count": 32,
   "id": "8e797f71-b367-45c7-a39d-29555ece2b09",
   "metadata": {},
   "outputs": [],
   "source": [
    "def training(model, criterion, optimizer, train_loader, test_loader, epochs):\n",
    "    # start a clock \n",
    "    start_time = time.time()\n",
    "    \n",
    "    train_losses = np.zeros(epochs)\n",
    "    #test_losses = np.zeros(epochs)\n",
    "    valid_losses = np.zeros(epochs)\n",
    "\n",
    "    for it in range(epochs):\n",
    "        model.train()\n",
    "        batch_train_loss = []\n",
    "        for inputs, targets in train_loader:\n",
    "            inputs, targets = inputs.to(device), targets.to(device)  # Move inputs and targets to the GPU\n",
    "            optimizer.zero_grad()\n",
    "            outputs = model(inputs)\n",
    "            loss = criterion(outputs, targets)\n",
    "            batch_train_loss.append(loss.item())\n",
    "            loss.backward()\n",
    "            optimizer.step()\n",
    "\n",
    "        model.eval()\n",
    "        #batch_test_loss = []\n",
    "        #for test_inputs, test_targets in test_loader:\n",
    "            #test_inputs, test_targets = test_inputs.to(device), test_targets.to(device)  # Move test inputs and targets to the GPU\n",
    "            #test_outputs = model(test_inputs)\n",
    "            #loss = criterion(test_outputs, test_targets)\n",
    "            #batch_test_loss.append(loss.item())\n",
    "            \n",
    "        batch_valid_loss = []\n",
    "        for valid_inputs, valid_targets in valid_loader:\n",
    "            valid_inputs, valid_targets = valid_inputs.to(device), valid_targets.to(device)  # Move test inputs and targets to the GPU\n",
    "            valid_outputs = model(valid_inputs)\n",
    "            loss = criterion(valid_outputs, valid_targets)\n",
    "            batch_valid_loss.append(loss.item())   \n",
    "            \n",
    "\n",
    "        train_loss = np.mean(batch_train_loss)\n",
    "        #test_loss = np.mean(batch_test_loss)\n",
    "        valid_loss = np.mean(batch_valid_loss)\n",
    "\n",
    "        train_losses[it] = train_loss\n",
    "        #test_losses[it] = test_loss\n",
    "        valid_losses[it] = train_loss\n",
    "\n",
    "        if (it + 1) % 10 == 0:\n",
    "            print(f'Epoch {it + 1}/{epochs}, Loss_train: {train_loss:.4f}, Loss_valid: {valid_loss:.4f}')\n",
    "            \n",
    "    end_time = time.time()\n",
    "    train_time = end_time - start_time\n",
    "    print(\"Elapsed Training Time: \", datetime.timedelta(seconds = train_time))\n",
    "    print('Finished Training')\n",
    "\n",
    "    return train_losses, valid_losses"
   ]
  },
  {
   "cell_type": "code",
   "execution_count": 33,
   "id": "8353d6cd",
   "metadata": {},
   "outputs": [
    {
     "name": "stdout",
     "output_type": "stream",
     "text": [
      "Epoch 10/100, Loss_train: 0.0126, Loss_valid: 0.0096\n",
      "Epoch 20/100, Loss_train: 0.0066, Loss_valid: 0.0063\n",
      "Epoch 30/100, Loss_train: 0.0045, Loss_valid: 0.0050\n",
      "Epoch 40/100, Loss_train: 0.0033, Loss_valid: 0.0042\n",
      "Epoch 50/100, Loss_train: 0.0026, Loss_valid: 0.0037\n",
      "Epoch 60/100, Loss_train: 0.0022, Loss_valid: 0.0034\n",
      "Epoch 70/100, Loss_train: 0.0020, Loss_valid: 0.0032\n",
      "Epoch 80/100, Loss_train: 0.0017, Loss_valid: 0.0031\n",
      "Epoch 90/100, Loss_train: 0.0016, Loss_valid: 0.0030\n",
      "Epoch 100/100, Loss_train: 0.0014, Loss_valid: 0.0029\n",
      "Elapsed Training Time:  0:01:43.268900\n",
      "Finished Training\n"
     ]
    }
   ],
   "source": [
    "epochs=100\n",
    "train_losses, valid_losses = training(lstm, criterion, optimizer, train_loader, test_loader, epochs)"
   ]
  },
  {
   "cell_type": "code",
   "execution_count": 35,
   "id": "ce82ee74-c7e6-49b9-8546-bc0e5a3d6cef",
   "metadata": {},
   "outputs": [
    {
     "data": {
      "image/png": "[encoded data removed]",
      "text/plain": [
       "<Figure size 432x288 with 1 Axes>"
      ]
     },
     "metadata": {
      "needs_background": "light"
     },
     "output_type": "display_data"
    }
   ],
   "source": [
    "loss_title = \"Epochs: \" + str(epochs) + \" | Window Length \" + str(seq_length) +\" | Hidden Units: \" + str(hidden_size) + \" \\nBatch_size: \" + str(batch_size) + \"| Learning Rate: \" + str(learning_rate)\n",
    "plt.title(loss_title)\n",
    "plt.xlabel(\"Epoch\")\n",
    "plt.ylabel(\"Loss\")\n",
    "\n",
    "# plt.yscale(\"log\")\n",
    "plt.plot(train_losses, label= \"Training\")\n",
    "plt.plot(valid_losses, label = \"Validation\")\n",
    "plt.legend()"
   ]
  },
  {
   "cell_type": "code",
   "execution_count": 36,
   "id": "840a3760-22b5-4dde-bf3f-0706b6642942",
   "metadata": {},
   "outputs": [
    {
     "data": {
      "text/plain": [
       "[<matplotlib.lines.Line2D at 0x7fee4b6d9040>]"
      ]
     },
     "execution_count": 36,
     "metadata": {},
     "output_type": "execute_result"
    },
    {
     "data": {
      "image/png": "[encoded data removed]",
      "text/plain": [
       "<Figure size 432x288 with 1 Axes>"
      ]
     },
     "metadata": {
      "needs_background": "light"
     },
     "output_type": "display_data"
    }
   ],
   "source": [
    "plt.plot(y_test)"
   ]
  },
  {
   "cell_type": "code",
   "execution_count": 37,
   "id": "9c22c565-752e-4549-a643-9582364b33da",
   "metadata": {},
   "outputs": [],
   "source": [
    "lstm.to(device)\n",
    "lstm.eval()\n",
    "\n",
    "test_return=np.empty(1)\n",
    "for test_inputs, test_targets in test_loader:\n",
    "    test_inputs, test_targets = test_inputs.to(device), test_targets.to(device)  # Move test inputs and targets to the GPU\n",
    "    test_outputs = lstm(test_inputs)\n",
    "    test_return=np.append(test_return,test_outputs.to('cpu').detach().numpy())"
   ]
  },
  {
   "cell_type": "code",
   "execution_count": 38,
   "id": "b7f3d52a-d6a3-4515-92ea-5874b2cb6dca",
   "metadata": {},
   "outputs": [
    {
     "data": {
      "text/plain": [
       "[<matplotlib.lines.Line2D at 0x7fee4b6abc10>]"
      ]
     },
     "execution_count": 38,
     "metadata": {},
     "output_type": "execute_result"
    },
    {
     "data": {
      "image/png": "[encoded data removed]",
      "text/plain": [
       "<Figure size 432x288 with 1 Axes>"
      ]
     },
     "metadata": {
      "needs_background": "light"
     },
     "output_type": "display_data"
    }
   ],
   "source": [
    "plt.plot(test_return)"
   ]
  },
  {
   "cell_type": "code",
   "execution_count": 39,
   "id": "861df52f-77fa-4561-bc70-94ddef4f74b0",
   "metadata": {},
   "outputs": [
    {
     "data": {
      "text/plain": [
       "[<matplotlib.lines.Line2D at 0x7fee4d235b50>]"
      ]
     },
     "execution_count": 39,
     "metadata": {},
     "output_type": "execute_result"
    },
    {
     "data": {
      "image/png": "[encoded data removed]",
      "text/plain": [
       "<Figure size 432x288 with 1 Axes>"
      ]
     },
     "metadata": {
      "needs_background": "light"
     },
     "output_type": "display_data"
    }
   ],
   "source": [
    "plt.plot(test_return)\n",
    "plt.plot(y_test)"
   ]
  },
  {
   "cell_type": "code",
   "execution_count": 80,
   "id": "cd2ce213-ee56-438e-a653-27e793069c84",
   "metadata": {},
   "outputs": [],
   "source": [
    "clamped_test=np.empty(len(test_return)-1)\n",
    "for i in range(len(test_return)-1):\n",
    "    if test_return[i]>0.5:\n",
    "        clamped_test[i]=1\n",
    "    else:\n",
    "        clamped_test[i]=0"
   ]
  },
  {
   "cell_type": "code",
   "execution_count": 81,
   "id": "9df976d4-c019-419f-95ac-6a927f81a562",
   "metadata": {},
   "outputs": [
    {
     "data": {
      "text/plain": [
       "[<matplotlib.lines.Line2D at 0x7fee4bdbcf70>]"
      ]
     },
     "execution_count": 81,
     "metadata": {},
     "output_type": "execute_result"
    },
    {
     "data": {
      "image/png": "[encoded data removed]",
      "text/plain": [
       "<Figure size 432x288 with 1 Axes>"
      ]
     },
     "metadata": {
      "needs_background": "light"
     },
     "output_type": "display_data"
    }
   ],
   "source": [
    "plt.plot(clamped_test)\n",
    "plt.plot(y_test)"
   ]
  },
  {
   "cell_type": "code",
   "execution_count": 82,
   "id": "2ec4e864-4995-4be3-b198-92545dbde52d",
   "metadata": {},
   "outputs": [
    {
     "name": "stdout",
     "output_type": "stream",
     "text": [
      "(17993,)\n"
     ]
    }
   ],
   "source": [
    "print(clamped_test.shape)"
   ]
  },
  {
   "cell_type": "code",
   "execution_count": 83,
   "id": "2e154173-5f77-40bd-bea4-27e691d71db0",
   "metadata": {},
   "outputs": [
    {
     "name": "stdout",
     "output_type": "stream",
     "text": [
      "torch.Size([17993, 1])\n"
     ]
    }
   ],
   "source": [
    "print(y_test.shape)"
   ]
  },
  {
   "cell_type": "code",
   "execution_count": 84,
   "id": "29c9fd6d-c6ff-4733-b600-85a652e32e58",
   "metadata": {},
   "outputs": [],
   "source": [
    "y_test_array=y_test.to('cpu').detach().numpy().flatten()"
   ]
  },
  {
   "cell_type": "code",
   "execution_count": 85,
   "id": "070b0ac1-7bd9-4cf8-aad9-39020ff8c707",
   "metadata": {},
   "outputs": [
    {
     "name": "stdout",
     "output_type": "stream",
     "text": [
      "(17993,)\n"
     ]
    }
   ],
   "source": [
    "print(y_test_array.shape)"
   ]
  },
  {
   "cell_type": "code",
   "execution_count": 88,
   "id": "492c2f38-32ec-46a3-9558-993c4928c58b",
   "metadata": {},
   "outputs": [],
   "source": [
    "misses = abs(clamped_test - y_test_array).sum(axis=0)"
   ]
  },
  {
   "cell_type": "code",
   "execution_count": 89,
   "id": "18400a5d-6671-4c8d-b57c-6657b989dd6c",
   "metadata": {},
   "outputs": [
    {
     "name": "stdout",
     "output_type": "stream",
     "text": [
      "22.0\n"
     ]
    }
   ],
   "source": [
    "print(misses)"
   ]
  },
  {
   "cell_type": "code",
   "execution_count": 93,
   "id": "0c6bebfd-9b8b-4bd9-8162-9dee7b021b62",
   "metadata": {},
   "outputs": [
    {
     "name": "stdout",
     "output_type": "stream",
     "text": [
      "Test Set Accuracy:  99.87773022842217 %\n"
     ]
    }
   ],
   "source": [
    "accuracy=100*(1-(misses/len(y_test_array)))\n",
    "print('Test Set Accuracy: ',accuracy,'%')"
   ]
  },
  {
   "cell_type": "code",
   "execution_count": null,
   "id": "cad025ec-8725-48ed-9aa1-d7ade93837b7",
   "metadata": {},
   "outputs": [],
   "source": []
  }
 ],
 "metadata": {
  "kernelspec": {
   "display_name": "me592",
   "language": "python",
   "name": "me592"
  },
  "language_info": {
   "codemirror_mode": {
    "name": "ipython",
    "version": 3
   },
   "file_extension": ".py",
   "mimetype": "text/x-python",
   "name": "python",
   "nbconvert_exporter": "python",
   "pygments_lexer": "ipython3",
   "version": "3.9.7"
  }
 },
 "nbformat": 4,
 "nbformat_minor": 5
}
