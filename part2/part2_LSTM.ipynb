{
 "cells": [
  {
   "cell_type": "code",
   "execution_count": 42,
   "id": "b6bf3957",
   "metadata": {},
   "outputs": [],
   "source": [
    "import itertools\n",
    "import time\n",
    "import datetime\n",
    "import numpy as np\n",
    "import pandas as pd\n",
    "import torch\n",
    "import torch.nn as nn\n",
    "import torchvision\n",
    "import torchvision.transforms as transformers\n",
    "import matplotlib.pyplot as plt\n",
    "from torch.autograd import Variable"
   ]
  },
  {
   "cell_type": "code",
   "execution_count": 43,
   "id": "2d149de5",
   "metadata": {},
   "outputs": [
    {
     "name": "stdout",
     "output_type": "stream",
     "text": [
      "(53999, 1024)\n",
      "(53999, 1)\n"
     ]
    }
   ],
   "source": [
    "train_codes = pd.read_csv('train_embbeds.csv')\n",
    "train_labels = pd.read_csv('train_labels.csv')\n",
    "print(train_codes.shape)\n",
    "print(train_labels.shape)"
   ]
  },
  {
   "cell_type": "code",
   "execution_count": 44,
   "id": "9f6a12f6",
   "metadata": {},
   "outputs": [
    {
     "name": "stdout",
     "output_type": "stream",
     "text": [
      "(53999, 1024)\n",
      "(53999, 1)\n"
     ]
    }
   ],
   "source": [
    "train_set = train_codes.iloc[:,0:1024].values\n",
    "train_set_labels= train_labels.iloc[:,:].values\n",
    "print(train_set.shape)\n",
    "print(train_set_labels.shape)"
   ]
  },
  {
   "cell_type": "code",
   "execution_count": 45,
   "id": "438dc7d2",
   "metadata": {},
   "outputs": [
    {
     "name": "stdout",
     "output_type": "stream",
     "text": [
      "(17999, 1024)\n",
      "(17999, 1)\n"
     ]
    }
   ],
   "source": [
    "test_codes = pd.read_csv('test_embbeds.csv')\n",
    "test_labels = pd.read_csv('test_labels.csv')\n",
    "print(test_codes.shape)\n",
    "print(test_labels.shape)"
   ]
  },
  {
   "cell_type": "code",
   "execution_count": 46,
   "id": "e124fbd9",
   "metadata": {},
   "outputs": [
    {
     "name": "stdout",
     "output_type": "stream",
     "text": [
      "(17999, 1024)\n",
      "(17999, 1)\n"
     ]
    }
   ],
   "source": [
    "test_set = test_codes.iloc[:,0:1024].values\n",
    "test_set_labels= test_labels.iloc[:,:].values\n",
    "print(test_set.shape)\n",
    "print(test_set_labels.shape)"
   ]
  },
  {
   "cell_type": "code",
   "execution_count": 47,
   "id": "95184256",
   "metadata": {},
   "outputs": [],
   "source": [
    "def sliding_windows(dataX,dataY, seq_length):\n",
    "    print(\"shape of data: \", dataX.shape)\n",
    "    print(\"shape of data labels: \", dataY.shape)\n",
    "    print(\"seq_length: \", seq_length)\n",
    "    \n",
    "    #batch_len=len(dataX)\n",
    "    \n",
    "    #x = torch.empty((1,4,1024))\n",
    "    # y = torch.empty((1,1))\n",
    "    #y = torch.empty(1,1)\n",
    "    \n",
    "    x = []\n",
    "    y = []\n",
    "    \n",
    "    for i in range(len(dataX)-seq_length-1):\n",
    "        _x = dataX[i:(i+seq_length)]\n",
    "        _y = dataY[i+seq_length]\n",
    "        x.append(_x)\n",
    "        y.append(_y)\n",
    "    \n",
    "    #for i in range(batch_len-seq_length-1):\n",
    "        # _x = data.detach()[i:(i+seq_length)]\n",
    "        # _y = data.detach()[i+seq_length]\n",
    "        #_x = dataX[i:(i+seq_length)]\n",
    "        #_y = dataY[i+seq_length]\n",
    "        \n",
    "        #_xOut=rearrange(_x,'w h -> 1 w h')\n",
    "        #_yOut=rearrange(_y,'w -> 1 w')\n",
    "\n",
    "\n",
    "        #x = torch.cat((x, _xOut),dim=0)\n",
    "        #y = torch.cat((y, _yOut),dim=0)\n",
    "\n",
    "    # return torch.tensor(x),torch.tensor(y)\n",
    "    #print(\"Size of x: \", x.size())\n",
    "    #print(\"Size of _x: \", _x.size())\n",
    "    #print(\"Size of y: \", y.size())\n",
    "    #print(\"Size of _y: \", _y.size())\n",
    "    \n",
    "    x_array=np.array(x)\n",
    "    y_array=np.array(y)\n",
    "    \n",
    "    return torch.tensor(x_array), torch.tensor(y_array)"
   ]
  },
  {
   "cell_type": "code",
   "execution_count": 151,
   "id": "b0225a06",
   "metadata": {},
   "outputs": [
    {
     "name": "stdout",
     "output_type": "stream",
     "text": [
      "shape of data:  (53999, 1024)\n",
      "shape of data labels:  (53999, 1)\n",
      "seq_length:  5\n",
      "The shape of x_train:  torch.Size([53993, 5, 1024])\n",
      "The shape of y_train:  torch.Size([53993, 1])\n"
     ]
    }
   ],
   "source": [
    "seq_length = 5\n",
    "x_train, y_train = sliding_windows(train_set, train_set_labels, seq_length)\n",
    "\n",
    "print(\"The shape of x_train: \", x_train.size())\n",
    "print(\"The shape of y_train: \", y_train.size())\n",
    "\n",
    "x_train=x_train.float()\n",
    "y_train=y_train.float()"
   ]
  },
  {
   "cell_type": "code",
   "execution_count": 152,
   "id": "787ad12c-a715-4a8a-9ebc-161676265b5d",
   "metadata": {},
   "outputs": [
    {
     "name": "stdout",
     "output_type": "stream",
     "text": [
      "shape of data:  (17999, 1024)\n",
      "shape of data labels:  (17999, 1)\n",
      "seq_length:  5\n",
      "The shape of x_train:  torch.Size([17993, 5, 1024])\n",
      "The shape of y_train:  torch.Size([17993, 1])\n"
     ]
    }
   ],
   "source": [
    "seq_length = 5\n",
    "x_test, y_test = sliding_windows(test_set, test_set_labels, seq_length)\n",
    "\n",
    "print(\"The shape of x_train: \", x_test.size())\n",
    "print(\"The shape of y_train: \", y_test.size())\n",
    "\n",
    "x_test=x_test.float()\n",
    "y_test=y_test.float() "
   ]
  },
  {
   "cell_type": "code",
   "execution_count": 50,
   "id": "bce23fa1",
   "metadata": {},
   "outputs": [],
   "source": [
    "class LSTM(nn.Module):\n",
    "\n",
    "    def __init__(self, num_classes, input_size, hidden_size, num_layers, device):\n",
    "        super(LSTM, self).__init__()\n",
    "        \n",
    "        self.num_classes = num_classes\n",
    "        self.num_layers = num_layers\n",
    "        self.input_size = input_size\n",
    "        self.hidden_size = hidden_size\n",
    "        self.seq_length = seq_length\n",
    "        \n",
    "        self.lstm = nn.LSTM(input_size=input_size, hidden_size=hidden_size,\n",
    "                            num_layers=num_layers, batch_first=True)\n",
    "        \n",
    "        self.fc = nn.Linear(hidden_size, num_classes)\n",
    "\n",
    "    def forward(self, x):\n",
    "        h_0 = Variable(torch.zeros(\n",
    "            self.num_layers, x.size(0), self.hidden_size)).to(device)\n",
    "        \n",
    "        c_0 = Variable(torch.zeros(\n",
    "            self.num_layers, x.size(0), self.hidden_size)).to(device)\n",
    "        \n",
    "        # Propagate input through LSTM\n",
    "        ula, (h_out, _) = self.lstm(x, (h_0, c_0))\n",
    "        \n",
    "        h_out = h_out.view(-1, self.hidden_size)\n",
    "        \n",
    "        out = self.fc(h_out)\n",
    "        \n",
    "        return out"
   ]
  },
  {
   "cell_type": "code",
   "execution_count": 51,
   "id": "e4d22f86",
   "metadata": {},
   "outputs": [
    {
     "name": "stdout",
     "output_type": "stream",
     "text": [
      "True\n"
     ]
    }
   ],
   "source": [
    "use_cuda = torch.cuda.is_available()\n",
    "print(use_cuda)"
   ]
  },
  {
   "cell_type": "code",
   "execution_count": 52,
   "id": "7ec88e55",
   "metadata": {},
   "outputs": [],
   "source": [
    "#trainX = Variable(x_train)\n",
    "#trainY = Variable(y_train)\n",
    "    \n",
    "#print(\"Shape of trainX: \", trainX.size())\n",
    "#print(\"Shape of trainY: \", trainY.size())"
   ]
  },
  {
   "cell_type": "code",
   "execution_count": 53,
   "id": "bc182917-c3a7-48d0-8b3f-e973b4ed0ade",
   "metadata": {},
   "outputs": [],
   "source": [
    "#testX = Variable(x_test)\n",
    "#testY = Variable(y_test)\n",
    "    \n",
    "#print(\"Shape of trainX: \", testX.size())\n",
    "#print(\"Shape of trainY: \", testY.size())"
   ]
  },
  {
   "cell_type": "code",
   "execution_count": 153,
   "id": "da620c9a-414d-4142-b44a-0bc8fff1fe69",
   "metadata": {},
   "outputs": [],
   "source": [
    "batch_size=8192\n",
    "\n",
    "train_dataset = torch.utils.data.TensorDataset(x_train, y_train)\n",
    "train_loader = torch.utils.data.DataLoader(train_dataset, batch_size=batch_size, shuffle=False)\n",
    "\n",
    "test_dataset = torch.utils.data.TensorDataset(x_test, y_test)\n",
    "test_loader = torch.utils.data.DataLoader(test_dataset, batch_size=batch_size, shuffle=False)\n"
   ]
  },
  {
   "cell_type": "code",
   "execution_count": 399,
   "id": "295458ed",
   "metadata": {},
   "outputs": [
    {
     "name": "stdout",
     "output_type": "stream",
     "text": [
      "Number of parameters:  3150337\n"
     ]
    }
   ],
   "source": [
    "#num_epochs = 10\n",
    "learning_rate = 0.00034\n",
    "\n",
    "input_size = 1024\n",
    "hidden_size = 512\n",
    "num_layers = 1\n",
    "\n",
    "num_classes = 1\n",
    "\n",
    "# locate our GPU device and initialize it for training\n",
    "#use_cuda = torch.cuda.is_available()\n",
    "device = torch.device('cuda' if use_cuda else 'cpu')\n",
    "#device = torch.device('cpu')\n",
    "\n",
    "lstm = LSTM(num_classes, input_size, hidden_size, num_layers, device)\n",
    "lstm.to(device)\n",
    "print(\"Number of parameters: \", sum(p.numel() for p in lstm.parameters()))\n",
    "\n",
    "criterion = torch.nn.MSELoss()    # mean-sqaured error for regression\n",
    "#criterion = nn.modules.loss.BCEWithLogitsLoss()    # mean-sqaured error for regression\n",
    "optimizer = torch.optim.Adam(lstm.parameters(), lr=learning_rate)\n",
    "#optimizer = torch.optim.SGD(lstm.parameters(), lr=learning_rate)\n",
    "\n",
    "# Train the model\n",
    "#for epoch in range(num_epochs):\n",
    "    \n",
    "    #Run a train on the train sequence\n",
    "#    lstm.train()\n",
    "#    outputs = lstm(trainX.to(device))\n",
    "#    optimizer.zero_grad()\n",
    "#    loss = criterion(outputs, trainY.to(device))\n",
    "#    loss.backward()\n",
    "#    optimizer.step()\n",
    "    \n",
    "    #Evaluate the epoch on the test sequence.\n",
    "#    lstm.eval()\n",
    "#    test_outputs = lstm(testX.to(device))\n",
    "#    test_loss = criterion(test_outputs, testY.to(device))\n",
    "    \n",
    "#    if epoch % 2 == 0:\n",
    "#      print(f'Epoch {epoch}, Loss_train: {loss:.4f}, Loss_test: {test_loss:.4f}')"
   ]
  },
  {
   "cell_type": "code",
   "execution_count": 187,
   "id": "8e797f71-b367-45c7-a39d-29555ece2b09",
   "metadata": {},
   "outputs": [],
   "source": [
    "def training(model, criterion, optimizer, train_loader, test_loader, epochs):\n",
    "    # start a clock \n",
    "    start_time = time.time()\n",
    "    \n",
    "    train_losses = np.zeros(epochs)\n",
    "    test_losses = np.zeros(epochs)\n",
    "\n",
    "    for it in range(epochs):\n",
    "        model.train()\n",
    "        batch_train_loss = []\n",
    "        for inputs, targets in train_loader:\n",
    "            inputs, targets = inputs.to(device), targets.to(device)  # Move inputs and targets to the GPU\n",
    "            optimizer.zero_grad()\n",
    "            outputs = model(inputs)\n",
    "            loss = criterion(outputs, targets)\n",
    "            batch_train_loss.append(loss.item())\n",
    "            loss.backward()\n",
    "            optimizer.step()\n",
    "\n",
    "        model.eval()\n",
    "        batch_test_loss = []\n",
    "        for test_inputs, test_targets in test_loader:\n",
    "            test_inputs, test_targets = test_inputs.to(device), test_targets.to(device)  # Move test inputs and targets to the GPU\n",
    "            test_outputs = model(test_inputs)\n",
    "            loss = criterion(test_outputs, test_targets)\n",
    "            batch_test_loss.append(loss.item())\n",
    "\n",
    "        train_loss = np.mean(batch_train_loss)\n",
    "        test_loss = np.mean(batch_test_loss)\n",
    "\n",
    "        train_losses[it] = train_loss\n",
    "        test_losses[it] = test_loss\n",
    "\n",
    "        if (it + 1) % 10 == 0:\n",
    "            print(f'Epoch {it + 1}/{epochs}, Loss_train: {train_loss:.4f}, Loss_test: {test_loss:.4f}')\n",
    "            \n",
    "    end_time = time.time()\n",
    "    train_time = end_time - start_time\n",
    "    print(\"Elapsed Training Time: \", datetime.timedelta(seconds = train_time))\n",
    "    print('Finished Training')\n",
    "\n",
    "    return train_losses, test_losses"
   ]
  },
  {
   "cell_type": "code",
   "execution_count": 400,
   "id": "8353d6cd",
   "metadata": {},
   "outputs": [
    {
     "name": "stdout",
     "output_type": "stream",
     "text": [
      "Epoch 5/200, Loss_train: 0.0304, Loss_test: 0.0212\n",
      "Epoch 10/200, Loss_train: 0.0090, Loss_test: 0.0085\n",
      "Epoch 15/200, Loss_train: 0.0063, Loss_test: 0.0068\n",
      "Epoch 20/200, Loss_train: 0.0050, Loss_test: 0.0060\n",
      "Epoch 25/200, Loss_train: 0.0041, Loss_test: 0.0054\n",
      "Epoch 30/200, Loss_train: 0.0034, Loss_test: 0.0050\n",
      "Epoch 35/200, Loss_train: 0.0030, Loss_test: 0.0047\n",
      "Epoch 40/200, Loss_train: 0.0026, Loss_test: 0.0045\n",
      "Epoch 45/200, Loss_train: 0.0023, Loss_test: 0.0043\n",
      "Epoch 50/200, Loss_train: 0.0020, Loss_test: 0.0041\n",
      "Epoch 55/200, Loss_train: 0.0018, Loss_test: 0.0040\n",
      "Epoch 60/200, Loss_train: 0.0016, Loss_test: 0.0039\n",
      "Epoch 65/200, Loss_train: 0.0015, Loss_test: 0.0038\n",
      "Epoch 70/200, Loss_train: 0.0014, Loss_test: 0.0037\n",
      "Epoch 75/200, Loss_train: 0.0012, Loss_test: 0.0036\n",
      "Epoch 80/200, Loss_train: 0.0011, Loss_test: 0.0035\n",
      "Epoch 85/200, Loss_train: 0.0010, Loss_test: 0.0035\n",
      "Epoch 90/200, Loss_train: 0.0010, Loss_test: 0.0034\n",
      "Epoch 95/200, Loss_train: 0.0009, Loss_test: 0.0034\n",
      "Epoch 100/200, Loss_train: 0.0008, Loss_test: 0.0033\n",
      "Epoch 105/200, Loss_train: 0.0008, Loss_test: 0.0033\n",
      "Epoch 110/200, Loss_train: 0.0007, Loss_test: 0.0033\n",
      "Epoch 115/200, Loss_train: 0.0007, Loss_test: 0.0033\n",
      "Epoch 120/200, Loss_train: 0.0006, Loss_test: 0.0032\n",
      "Epoch 125/200, Loss_train: 0.0006, Loss_test: 0.0033\n",
      "Epoch 130/200, Loss_train: 0.0006, Loss_test: 0.0032\n",
      "Epoch 135/200, Loss_train: 0.0007, Loss_test: 0.0034\n",
      "Epoch 140/200, Loss_train: 0.0007, Loss_test: 0.0033\n",
      "Epoch 145/200, Loss_train: 0.0009, Loss_test: 0.0035\n",
      "Epoch 150/200, Loss_train: 0.0007, Loss_test: 0.0032\n",
      "Epoch 155/200, Loss_train: 0.0006, Loss_test: 0.0033\n",
      "Epoch 160/200, Loss_train: 0.0006, Loss_test: 0.0031\n",
      "Epoch 165/200, Loss_train: 0.0006, Loss_test: 0.0032\n",
      "Epoch 170/200, Loss_train: 0.0006, Loss_test: 0.0031\n",
      "Epoch 175/200, Loss_train: 0.0007, Loss_test: 0.0033\n",
      "Epoch 180/200, Loss_train: 0.0005, Loss_test: 0.0031\n",
      "Epoch 185/200, Loss_train: 0.0007, Loss_test: 0.0034\n",
      "Epoch 190/200, Loss_train: 0.0006, Loss_test: 0.0031\n",
      "Epoch 195/200, Loss_train: 0.0005, Loss_test: 0.0032\n",
      "Epoch 200/200, Loss_train: 0.0005, Loss_test: 0.0030\n",
      "Elapsed Training Time:  0:04:17.731884\n",
      "Finished Training\n"
     ]
    },
    {
     "data": {
      "image/png": "[encoded data removed]",
      "text/plain": [
       "<Figure size 432x288 with 1 Axes>"
      ]
     },
     "metadata": {
      "needs_background": "light"
     },
     "output_type": "display_data"
    }
   ],
   "source": [
    "epochs=200\n",
    "train_losses, test_losses = training(lstm, criterion, optimizer, train_loader, test_loader, epochs)\n",
    "\n",
    "loss_title = \"Epochs: \" + str(epochs) + \" | Window Length \" + str(seq_length) +\" | Hidden Units: \" + str(hidden_size) + \" \\nBatch_size: \" + str(batch_size) + \"| Learning Rate: \" + str(learning_rate)\n",
    "plt.title(loss_title)\n",
    "plt.xlabel(\"Epoch\")\n",
    "plt.ylabel(\"Loss\")\n",
    "\n",
    "# plt.yscale(\"log\")\n",
    "plt.plot(train_losses, label= \"Training\")\n",
    "plt.plot(test_losses, label = \"Validation\")\n",
    "plt.legend()\n",
    "\n",
    "\n",
    "figname = \"e\"+str(epochs)+\"bs\"+str(batch_size)+\"lr\"+str(learning_rate)+\".png\"\n",
    "#print(figname)\n",
    "#plt.savefig(figname)"
   ]
  },
  {
   "cell_type": "code",
   "execution_count": 362,
   "id": "b6d7f202-ce89-48f4-b075-00694121f8d6",
   "metadata": {},
   "outputs": [
    {
     "data": {
      "text/plain": [
       "[<matplotlib.lines.Line2D at 0x7fd6e74e0cd0>]"
      ]
     },
     "execution_count": 362,
     "metadata": {},
     "output_type": "execute_result"
    },
    {
     "data": {
      "image/png": "[encoded data removed]",
      "text/plain": [
       "<Figure size 432x288 with 1 Axes>"
      ]
     },
     "metadata": {
      "needs_background": "light"
     },
     "output_type": "display_data"
    }
   ],
   "source": [
    "plt.plot(y_train)"
   ]
  },
  {
   "cell_type": "code",
   "execution_count": 363,
   "id": "840a3760-22b5-4dde-bf3f-0706b6642942",
   "metadata": {},
   "outputs": [
    {
     "data": {
      "text/plain": [
       "[<matplotlib.lines.Line2D at 0x7fd6e74aa3d0>]"
      ]
     },
     "execution_count": 363,
     "metadata": {},
     "output_type": "execute_result"
    },
    {
     "data": {
      "image/png": "[encoded data removed]",
      "text/plain": [
       "<Figure size 432x288 with 1 Axes>"
      ]
     },
     "metadata": {
      "needs_background": "light"
     },
     "output_type": "display_data"
    }
   ],
   "source": [
    "plt.plot(y_test)"
   ]
  },
  {
   "cell_type": "code",
   "execution_count": 401,
   "id": "9c22c565-752e-4549-a643-9582364b33da",
   "metadata": {},
   "outputs": [],
   "source": [
    "lstm.to(device)\n",
    "lstm.eval()\n",
    "\n",
    "test_return=np.empty(1)\n",
    "\n",
    "\n",
    "for test_inputs, test_targets in test_loader:\n",
    "    test_inputs, test_targets = test_inputs.to(device), test_targets.to(device)  # Move test inputs and targets to the GPU\n",
    "    test_outputs = lstm(test_inputs)\n",
    "    test_return=np.append(test_return,test_outputs.to('cpu').detach().numpy())"
   ]
  },
  {
   "cell_type": "code",
   "execution_count": 402,
   "id": "07cf5903-4e4a-4f56-823a-31f8133d1bf7",
   "metadata": {},
   "outputs": [
    {
     "name": "stdout",
     "output_type": "stream",
     "text": [
      "(17994,)\n"
     ]
    }
   ],
   "source": [
    "print(test_return.shape)"
   ]
  },
  {
   "cell_type": "code",
   "execution_count": 403,
   "id": "b7f3d52a-d6a3-4515-92ea-5874b2cb6dca",
   "metadata": {},
   "outputs": [
    {
     "data": {
      "text/plain": [
       "[<matplotlib.lines.Line2D at 0x7fd6e716a640>]"
      ]
     },
     "execution_count": 403,
     "metadata": {},
     "output_type": "execute_result"
    },
    {
     "data": {
      "image/png": "[encoded data removed]",
      "text/plain": [
       "<Figure size 432x288 with 1 Axes>"
      ]
     },
     "metadata": {
      "needs_background": "light"
     },
     "output_type": "display_data"
    }
   ],
   "source": [
    "plt.plot(test_return)"
   ]
  },
  {
   "cell_type": "code",
   "execution_count": 404,
   "id": "861df52f-77fa-4561-bc70-94ddef4f74b0",
   "metadata": {},
   "outputs": [
    {
     "data": {
      "text/plain": [
       "[<matplotlib.lines.Line2D at 0x7fd6e79baeb0>]"
      ]
     },
     "execution_count": 404,
     "metadata": {},
     "output_type": "execute_result"
    },
    {
     "data": {
      "image/png": "[encoded data removed]",
      "text/plain": [
       "<Figure size 432x288 with 1 Axes>"
      ]
     },
     "metadata": {
      "needs_background": "light"
     },
     "output_type": "display_data"
    }
   ],
   "source": [
    "plt.plot(test_return)\n",
    "plt.plot(y_test)"
   ]
  },
  {
   "cell_type": "code",
   "execution_count": 405,
   "id": "cd2ce213-ee56-438e-a653-27e793069c84",
   "metadata": {},
   "outputs": [],
   "source": [
    "clamped_test=np.empty(len(test_return))\n",
    "for i in range(len(test_return)):\n",
    "    if test_return[i]>0.5:\n",
    "        clamped_test[i]=1\n",
    "    else:\n",
    "        clamped_test[i]=0"
   ]
  },
  {
   "cell_type": "code",
   "execution_count": 406,
   "id": "9df976d4-c019-419f-95ac-6a927f81a562",
   "metadata": {},
   "outputs": [
    {
     "data": {
      "text/plain": [
       "[<matplotlib.lines.Line2D at 0x7fd6e7217b50>]"
      ]
     },
     "execution_count": 406,
     "metadata": {},
     "output_type": "execute_result"
    },
    {
     "data": {
      "image/png": "[encoded data removed]",
      "text/plain": [
       "<Figure size 432x288 with 1 Axes>"
      ]
     },
     "metadata": {
      "needs_background": "light"
     },
     "output_type": "display_data"
    }
   ],
   "source": [
    "plt.plot(clamped_test)\n",
    "plt.plot(y_test)"
   ]
  },
  {
   "cell_type": "code",
   "execution_count": 407,
   "id": "b5fb60e7-5a30-4802-881c-afef38f27d5a",
   "metadata": {},
   "outputs": [],
   "source": [
    "#df_output = pd.DataFrame(clamped_test)\n",
    "#df_label2 = pd.DataFrame(y_test_array)\n",
    "#df_output.to_csv('test_ouputs.csv', mode='a', index=False, header=False)\n",
    "#df_label.to_csv('test_labels3.csv', mode='a', index=False, header=False)"
   ]
  },
  {
   "cell_type": "code",
   "execution_count": 408,
   "id": "3427cfae-82c4-4c26-9178-3a1a317492d5",
   "metadata": {},
   "outputs": [],
   "source": [
    "y_test_array=y_test.detach().numpy()"
   ]
  },
  {
   "cell_type": "code",
   "execution_count": 409,
   "id": "2135f89c-87e1-48ee-aac1-c94be2ce0c94",
   "metadata": {},
   "outputs": [],
   "source": [
    "y_test_array_t=np.transpose(y_test_array)"
   ]
  },
  {
   "cell_type": "code",
   "execution_count": 410,
   "id": "bd4348a8-2bc4-430d-9df1-b719824e3a32",
   "metadata": {},
   "outputs": [
    {
     "name": "stdout",
     "output_type": "stream",
     "text": [
      "(1, 17993)\n"
     ]
    }
   ],
   "source": [
    "print(y_test_array_t.shape)"
   ]
  },
  {
   "cell_type": "code",
   "execution_count": 411,
   "id": "d46a59fb-ae58-4cf6-a553-72cf8ba72846",
   "metadata": {},
   "outputs": [
    {
     "name": "stdout",
     "output_type": "stream",
     "text": [
      "(17994,)\n"
     ]
    }
   ],
   "source": [
    "print(clamped_test.shape)"
   ]
  },
  {
   "cell_type": "code",
   "execution_count": 422,
   "id": "b124839c-b541-496c-99bb-b7cc5052e77d",
   "metadata": {},
   "outputs": [],
   "source": [
    "clamped_test_rs=np.resize(clamped_test[1:17994],(1,17993))"
   ]
  },
  {
   "cell_type": "code",
   "execution_count": 423,
   "id": "283f2bcb-26d8-48ed-9e07-2a5be569e753",
   "metadata": {},
   "outputs": [
    {
     "data": {
      "text/plain": [
       "(1, 17993)"
      ]
     },
     "execution_count": 423,
     "metadata": {},
     "output_type": "execute_result"
    }
   ],
   "source": [
    "clamped_test_rs.shape"
   ]
  },
  {
   "cell_type": "code",
   "execution_count": 424,
   "id": "492c2f38-32ec-46a3-9558-993c4928c58b",
   "metadata": {},
   "outputs": [],
   "source": [
    "mse = (np.square(clamped_test_rs - y_test_array_t).mean(axis=0))"
   ]
  },
  {
   "cell_type": "code",
   "execution_count": 425,
   "id": "747f1055-a6bb-444d-9b0d-997554fd6a0f",
   "metadata": {},
   "outputs": [
    {
     "name": "stdout",
     "output_type": "stream",
     "text": [
      "[0. 0. 0. ... 0. 0. 0.]\n"
     ]
    }
   ],
   "source": [
    "print(mse)"
   ]
  },
  {
   "cell_type": "code",
   "execution_count": 426,
   "id": "49b163c5-a16b-4483-97bb-06036a02adfd",
   "metadata": {},
   "outputs": [
    {
     "data": {
      "text/plain": [
       "[<matplotlib.lines.Line2D at 0x7fd6e706f700>]"
      ]
     },
     "execution_count": 426,
     "metadata": {},
     "output_type": "execute_result"
    },
    {
     "data": {
      "image/png": "[encoded data removed]",
      "text/plain": [
       "<Figure size 432x288 with 1 Axes>"
      ]
     },
     "metadata": {
      "needs_background": "light"
     },
     "output_type": "display_data"
    }
   ],
   "source": [
    "plt.plot(y_test)\n",
    "plt.plot(mse)"
   ]
  },
  {
   "cell_type": "code",
   "execution_count": 160,
   "id": "5bd406a4-2a5c-4018-9ada-b50f7d752f47",
   "metadata": {},
   "outputs": [
    {
     "name": "stdout",
     "output_type": "stream",
     "text": [
      "(8999, 1024)\n",
      "(8999, 1)\n"
     ]
    }
   ],
   "source": [
    "valid_codes = pd.read_csv('valid_embbeds.csv')\n",
    "valid_labels = pd.read_csv('valid_labels.csv')\n",
    "print(valid_codes.shape)\n",
    "print(valid_labels.shape)"
   ]
  },
  {
   "cell_type": "code",
   "execution_count": 161,
   "id": "e077118e-5cb3-4334-800a-f0db2d09932e",
   "metadata": {},
   "outputs": [
    {
     "name": "stdout",
     "output_type": "stream",
     "text": [
      "(8999, 1024)\n",
      "(8999, 1)\n"
     ]
    }
   ],
   "source": [
    "valid_set = valid_codes.iloc[:,0:1024].values\n",
    "valid_set_labels= valid_labels.iloc[:,:].values\n",
    "print(valid_set.shape)\n",
    "print(valid_set_labels.shape)"
   ]
  },
  {
   "cell_type": "code",
   "execution_count": 252,
   "id": "14ec0518-5a99-47e0-8b42-bc52dc3e4810",
   "metadata": {},
   "outputs": [
    {
     "name": "stdout",
     "output_type": "stream",
     "text": [
      "shape of data:  (8999, 1024)\n",
      "shape of data labels:  (8999, 1)\n",
      "seq_length:  5\n",
      "The shape of x_valid:  torch.Size([8993, 5, 1024])\n",
      "The shape of y_valid:  torch.Size([8993, 1])\n"
     ]
    }
   ],
   "source": [
    "x_valid, y_valid = sliding_windows(valid_set, valid_set_labels, seq_length)\n",
    "\n",
    "print(\"The shape of x_valid: \", x_valid.size())\n",
    "print(\"The shape of y_valid: \", y_valid.size())\n",
    "\n",
    "x_valid=x_valid.float()\n",
    "y_valid=y_valid.float()"
   ]
  },
  {
   "cell_type": "code",
   "execution_count": 253,
   "id": "ab2ded48-d53f-4cc0-9bc9-59800650546e",
   "metadata": {},
   "outputs": [],
   "source": [
    "valid_dataset = torch.utils.data.TensorDataset(x_valid, y_valid)\n",
    "valid_loader = torch.utils.data.DataLoader(valid_dataset, batch_size=batch_size, shuffle=False)"
   ]
  },
  {
   "cell_type": "code",
   "execution_count": 254,
   "id": "6777c469-892e-4ca5-b0c8-15b19f9f7e47",
   "metadata": {},
   "outputs": [
    {
     "data": {
      "text/plain": [
       "[<matplotlib.lines.Line2D at 0x7fd6ed8ae550>]"
      ]
     },
     "execution_count": 254,
     "metadata": {},
     "output_type": "execute_result"
    },
    {
     "data": {
      "image/png": "[encoded data removed]",
      "text/plain": [
       "<Figure size 432x288 with 1 Axes>"
      ]
     },
     "metadata": {
      "needs_background": "light"
     },
     "output_type": "display_data"
    }
   ],
   "source": [
    "plt.plot(y_valid)"
   ]
  },
  {
   "cell_type": "code",
   "execution_count": 255,
   "id": "5a7ef5d4-9ac1-4081-8963-fd3f6fa08c44",
   "metadata": {},
   "outputs": [],
   "source": [
    "lstm.to(device)\n",
    "lstm.eval()\n",
    "\n",
    "valid_return=np.empty(1)\n",
    "\n",
    "\n",
    "for valid_inputs, valid_targets in valid_loader:\n",
    "    valid_inputs, valid_targets = valid_inputs.to(device), valid_targets.to(device)  # Move test inputs and targets to the GPU\n",
    "    valid_outputs = lstm(valid_inputs)\n",
    "    valid_return=np.append(valid_return,valid_outputs.to('cpu').detach().numpy())"
   ]
  },
  {
   "cell_type": "code",
   "execution_count": 256,
   "id": "805d01aa-8e34-4d74-98d2-5351f17d1795",
   "metadata": {},
   "outputs": [
    {
     "data": {
      "text/plain": [
       "[<matplotlib.lines.Line2D at 0x7fd6e7db66a0>]"
      ]
     },
     "execution_count": 256,
     "metadata": {},
     "output_type": "execute_result"
    },
    {
     "data": {
      "image/png": "[encoded data removed]",
      "text/plain": [
       "<Figure size 432x288 with 1 Axes>"
      ]
     },
     "metadata": {
      "needs_background": "light"
     },
     "output_type": "display_data"
    }
   ],
   "source": [
    "plt.plot(valid_return)\n",
    "plt.plot(y_valid)"
   ]
  },
  {
   "cell_type": "code",
   "execution_count": 257,
   "id": "7ad78e87-2b92-41e5-bbac-4db9bb6e7256",
   "metadata": {},
   "outputs": [],
   "source": [
    "valid_norm=(valid_return-np.min(valid_return))/(np.max(valid_return)-np.min(valid_return))"
   ]
  },
  {
   "cell_type": "code",
   "execution_count": 258,
   "id": "e34e107f-1286-4dd3-bceb-2aa92c4a4822",
   "metadata": {},
   "outputs": [
    {
     "data": {
      "text/plain": [
       "[<matplotlib.lines.Line2D at 0x7fd6d56a9d60>]"
      ]
     },
     "execution_count": 258,
     "metadata": {},
     "output_type": "execute_result"
    },
    {
     "data": {
      "image/png": "[encoded data removed]",
      "text/plain": [
       "<Figure size 432x288 with 1 Axes>"
      ]
     },
     "metadata": {
      "needs_background": "light"
     },
     "output_type": "display_data"
    }
   ],
   "source": [
    "plt.plot(valid_norm)"
   ]
  },
  {
   "cell_type": "code",
   "execution_count": 259,
   "id": "967f0e20-8e80-4dfb-bf14-655cec02d905",
   "metadata": {},
   "outputs": [
    {
     "name": "stdout",
     "output_type": "stream",
     "text": [
      "8994\n"
     ]
    }
   ],
   "source": [
    "print(len(valid_return))"
   ]
  },
  {
   "cell_type": "code",
   "execution_count": 260,
   "id": "1a503a2d-9ada-4bec-99b3-bf18b30f5d9e",
   "metadata": {},
   "outputs": [
    {
     "name": "stdout",
     "output_type": "stream",
     "text": [
      "0.965334951877594\n"
     ]
    }
   ],
   "source": [
    "print(valid_return[2])"
   ]
  },
  {
   "cell_type": "code",
   "execution_count": 261,
   "id": "d022bf07-5ac8-41a3-a1c0-0729dc80bd25",
   "metadata": {},
   "outputs": [],
   "source": [
    "clamped_valid=np.empty(len(valid_return))\n",
    "for i in range(len(valid_return)):\n",
    "    if valid_return[i]>0.5:\n",
    "        clamped_valid[i]=1\n",
    "    else:\n",
    "        clamped_valid[i]=0"
   ]
  },
  {
   "cell_type": "code",
   "execution_count": 262,
   "id": "35101c57-6285-4575-af1c-ba5cf9b56f2c",
   "metadata": {},
   "outputs": [
    {
     "name": "stdout",
     "output_type": "stream",
     "text": [
      "8994\n"
     ]
    }
   ],
   "source": [
    "print(len(clamped_valid))"
   ]
  },
  {
   "cell_type": "code",
   "execution_count": 263,
   "id": "c9de219b-7a7b-4779-8c77-3144a8808fb4",
   "metadata": {},
   "outputs": [
    {
     "data": {
      "text/plain": [
       "[<matplotlib.lines.Line2D at 0x7fd6e7e1d250>]"
      ]
     },
     "execution_count": 263,
     "metadata": {},
     "output_type": "execute_result"
    },
    {
     "data": {
      "image/png": "[encoded data removed]",
      "text/plain": [
       "<Figure size 432x288 with 1 Axes>"
      ]
     },
     "metadata": {
      "needs_background": "light"
     },
     "output_type": "display_data"
    }
   ],
   "source": [
    "plt.plot(clamped_valid)\n",
    "plt.plot(y_valid)"
   ]
  },
  {
   "cell_type": "code",
   "execution_count": 265,
   "id": "753e8d48-c1d7-429b-9ec1-a12686c1caf1",
   "metadata": {},
   "outputs": [],
   "source": [
    "y_valid_array=y_valid.detach().numpy()"
   ]
  },
  {
   "cell_type": "code",
   "execution_count": 267,
   "id": "5769dcc6-dbd1-442c-b4e9-4c6e2dd4bb85",
   "metadata": {},
   "outputs": [],
   "source": [
    "y_valid_array_t=np.transpose(y_valid_array)"
   ]
  },
  {
   "cell_type": "code",
   "execution_count": 269,
   "id": "1efa1c9a-9a32-4f87-8b48-5c0c850203cf",
   "metadata": {},
   "outputs": [
    {
     "name": "stdout",
     "output_type": "stream",
     "text": [
      "(1, 8993)\n"
     ]
    }
   ],
   "source": [
    "print(y_valid_array_t.shape)"
   ]
  },
  {
   "cell_type": "code",
   "execution_count": 301,
   "id": "3023c4ab-21c9-406b-a459-d52d7e889488",
   "metadata": {},
   "outputs": [],
   "source": [
    "clamped_valid_rs=np.resize(clamped_valid[1:8994],(1,8993))"
   ]
  },
  {
   "cell_type": "code",
   "execution_count": 302,
   "id": "a6313741-89fb-49a3-933b-960ff9f8b5c0",
   "metadata": {},
   "outputs": [
    {
     "name": "stdout",
     "output_type": "stream",
     "text": [
      "(1, 8993)\n"
     ]
    }
   ],
   "source": [
    "print(clamped_valid_rs.shape)"
   ]
  },
  {
   "cell_type": "code",
   "execution_count": 299,
   "id": "d4780cd8-21d5-43fc-ad28-1fade6ee18fb",
   "metadata": {},
   "outputs": [
    {
     "name": "stdout",
     "output_type": "stream",
     "text": [
      "[0. 0. 0. ... 0. 0. 0.]\n"
     ]
    }
   ],
   "source": [
    "mse_v = (np.square(clamped_valid_rs - y_valid_array_t).mean(axis=0))\n",
    "print(mse_v)"
   ]
  },
  {
   "cell_type": "code",
   "execution_count": 300,
   "id": "b199bba4-fac5-4ef2-9e37-c24027f7bae8",
   "metadata": {},
   "outputs": [
    {
     "data": {
      "text/plain": [
       "[<matplotlib.lines.Line2D at 0x7fd6e7c79340>]"
      ]
     },
     "execution_count": 300,
     "metadata": {},
     "output_type": "execute_result"
    },
    {
     "data": {
      "image/png": "[encoded data removed]",
      "text/plain": [
       "<Figure size 432x288 with 1 Axes>"
      ]
     },
     "metadata": {
      "needs_background": "light"
     },
     "output_type": "display_data"
    }
   ],
   "source": [
    "plt.plot(y_valid)\n",
    "plt.plot(mse_v)"
   ]
  }
 ],
 "metadata": {
  "kernelspec": {
   "display_name": "me592",
   "language": "python",
   "name": "me592"
  },
  "language_info": {
   "codemirror_mode": {
    "name": "ipython",
    "version": 3
   },
   "file_extension": ".py",
   "mimetype": "text/x-python",
   "name": "python",
   "nbconvert_exporter": "python",
   "pygments_lexer": "ipython3",
   "version": "3.9.7"
  }
 },
 "nbformat": 4,
 "nbformat_minor": 5
}
